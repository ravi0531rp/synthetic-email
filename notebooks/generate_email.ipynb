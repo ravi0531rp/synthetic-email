{
 "cells": [
  {
   "cell_type": "code",
   "execution_count": 1,
   "metadata": {},
   "outputs": [],
   "source": [
    "import json\n",
    "from langchain_openai import OpenAI\n",
    "import os"
   ]
  },
  {
   "cell_type": "code",
   "execution_count": 7,
   "metadata": {},
   "outputs": [],
   "source": [
    "os.environ[\"OPENAI_API_KEY\"] = \"\""
   ]
  },
  {
   "cell_type": "code",
   "execution_count": 20,
   "metadata": {},
   "outputs": [],
   "source": [
    "llms = [OpenAI(temperature=temp) for temp in [0.2,0.4,0.6]]\n"
   ]
  },
  {
   "cell_type": "code",
   "execution_count": 9,
   "metadata": {},
   "outputs": [],
   "source": [
    "def read_json(json_file):\n",
    "    try:\n",
    "        with open(json_file, 'r') as file:\n",
    "            data = json.load(file)\n",
    "            return data\n",
    "    except Exception as e:\n",
    "        print(f\"Error reading JSON file '{json_file}': {str(e)}\")\n",
    "        return None"
   ]
  },
  {
   "cell_type": "code",
   "execution_count": 10,
   "metadata": {},
   "outputs": [],
   "source": [
    "input_dataset_sampled = read_json(\"../datasets/sampled_emails_4k.json\")\n"
   ]
  },
  {
   "cell_type": "code",
   "execution_count": 11,
   "metadata": {},
   "outputs": [
    {
     "data": {
      "text/plain": [
       "{'text': \"Date: Mon, 31 Jul 2000 12:59:00 -0700 (PDT)\\nFrom: robin.rodrigue@enron.com\\nTo: nicole.laporte@enron.com\\nSubject: Re: How are they looking?\\nBody: \\nI promise I didn't forget about you tonight!\\nRR\",\n",
       " 'email_type': 'response',\n",
       " 'Date': 'Mon, 31 Jul 2000 12:59:00 -0700 (PDT)',\n",
       " 'From': 'robin.rodrigue@enron.com',\n",
       " 'To': 'nicole.laporte@enron.com',\n",
       " 'Subject': 'Re: How are they looking?',\n",
       " 'Body': \"I promise I didn't forget about you tonight!\\nRR\",\n",
       " 'recipients_count': 1,\n",
       " 'word_count': 9}"
      ]
     },
     "execution_count": 11,
     "metadata": {},
     "output_type": "execute_result"
    }
   ],
   "source": [
    "input_dataset_sampled[20]"
   ]
  },
  {
   "cell_type": "code",
   "execution_count": 12,
   "metadata": {},
   "outputs": [],
   "source": [
    "prompt_1 = \"\"\"Parse the provided email data and generate the following information as a single line json:\n",
    "\n",
    "* subject: The subject line of the provided email if present.\n",
    "* timezone: The timezone of the provided email if available.\n",
    "* length: The total number of words in the provided email body.\n",
    "* year: The year extracted from the date header in the provided email.\n",
    "* month: The month extracted from the date header in the provided email.\n",
    "* recipients: The total number of recipients in the provided email.\n",
    "* cc_participants: The number of participants in the CC field (0 if None) in the provided email.\n",
    "* is_reply: A boolean value (0 or 1) indicating whether the email is a reply based on the presence of \"Re:\" in the provided email.\n",
    "* summary: A concise summary of the email content, capturing key points like:\n",
    "    * Reason for the email \n",
    "    * Actions proposed \n",
    "    * Any mentioned deadlines or timeframes.\n",
    "* response: Generate an email response to the provided email in the same format as the input email from the perspective of the main recipient.\n",
    "\n",
    "** For the response, please strictly adhere to the provided email format which contains Date, From, To, CC, Subject, Body.\n",
    "\n",
    "**Provided Email:**\n",
    "\n",
    "\"\"\""
   ]
  },
  {
   "cell_type": "code",
   "execution_count": 13,
   "metadata": {},
   "outputs": [],
   "source": [
    "import re\n",
    "\n",
    "def get_json(pred):\n",
    "    pred = re.sub(r'(\\n\")', '\"', pred)\n",
    "    dictionary = json.loads(pred)\n",
    "    return dictionary\n"
   ]
  },
  {
   "cell_type": "code",
   "execution_count": 21,
   "metadata": {},
   "outputs": [],
   "source": [
    "def invoke_llm(llms, email_data, max_retries = 10):\n",
    "    for llm in llms:\n",
    "        for _ in range(max_retries):\n",
    "            try:\n",
    "                input_text = prompt_1 + email_data[\"text\"]\n",
    "                llm_out = llm.invoke(input_text).lstrip(\"\\n\\n\")\n",
    "                llm_json = get_json(llm_out)\n",
    "                llm_response = {\"original_email\": email_data[\"text\"], **llm_json}\n",
    "                return llm_response\n",
    "            except:\n",
    "                pass\n",
    "    return {}\n",
    "            "
   ]
  },
  {
   "cell_type": "code",
   "execution_count": 22,
   "metadata": {},
   "outputs": [],
   "source": [
    "import concurrent.futures\n",
    "from tqdm import tqdm\n"
   ]
  },
  {
   "cell_type": "code",
   "execution_count": 23,
   "metadata": {},
   "outputs": [],
   "source": [
    "test = input_dataset_sampled[:10]"
   ]
  },
  {
   "cell_type": "code",
   "execution_count": 24,
   "metadata": {},
   "outputs": [
    {
     "name": "stderr",
     "output_type": "stream",
     "text": [
      "  0%|          | 0/4000 [00:00<?, ?it/s]"
     ]
    },
    {
     "name": "stderr",
     "output_type": "stream",
     "text": [
      "100%|██████████| 4000/4000 [4:31:08<00:00,  4.07s/it]   \n"
     ]
    }
   ],
   "source": [
    "llm_responses = []\n",
    "\n",
    "with concurrent.futures.ThreadPoolExecutor(max_workers=20) as executor:\n",
    "    futures = [executor.submit(invoke_llm, llms, email_data) for email_data in input_dataset_sampled]\n",
    "\n",
    "    for future in tqdm(concurrent.futures.as_completed(futures), total = len(futures)):\n",
    "        try:\n",
    "            llm_json = future.result()\n",
    "            llm_responses.append(llm_json)\n",
    "        except Exception as e:\n",
    "            print(f\"Exception occurred: {e}\")\n"
   ]
  },
  {
   "cell_type": "code",
   "execution_count": 27,
   "metadata": {},
   "outputs": [],
   "source": [
    "final_lst = [item for item in llm_responses if item != {}]\n"
   ]
  },
  {
   "cell_type": "code",
   "execution_count": 28,
   "metadata": {},
   "outputs": [
    {
     "data": {
      "text/plain": [
       "1083"
      ]
     },
     "execution_count": 28,
     "metadata": {},
     "output_type": "execute_result"
    }
   ],
   "source": [
    "len(final_lst)"
   ]
  },
  {
   "cell_type": "code",
   "execution_count": 31,
   "metadata": {},
   "outputs": [
    {
     "data": {
      "text/plain": [
       "{'original_email': \"Date: Mon, 30 Apr 2001 00:56:00 -0700 (PDT)\\nFrom: reagan.rorschach@enron.com\\nTo: kay.mann@enron.com\\nSubject: RE: long form confirm/MDEA\\nBody: \\nKay, have these issues been incorporated into the ILA?\\n -----Original Message-----\\nFrom:  Mann, Kay  \\nSent: Sunday, April 29, 2001 11:51 AM\\nTo: Sacks, Edward\\nCc: Rorschach, Reagan; kay.mann@worldnet.att.net\\nSubject: RE: long form confirm/MDEA\\nInstinctively it seems that the agent for concept would be stronger.  I'll \\ncheck into it for the  longer term deal.  Obviously, it is a Mississippi law \\nissue, so I'll have to get an opinion.\\nKay\\nFrom: Edward Sacks/ENRON@enronXgate on 04/29/2001 10:46 AM\\nTo: Reagan Rorschach/ENRON@enronXgate, Kay Mann/Corp/Enron@Enron, \\nkay.mann@worldnet.att.net@SMTP@enronXgate\\ncc:  \\nSubject: RE: long form confirm/MDEA\\nThe following are my comments:\\n  - I assume that Settlements is fine with invoicing no later than the 7 th \\nof each mth.\\n  - Section M:  Should we go this route (covenant of financial support) or \\nwould we be accomplishing the same if we structure this as MDEA, agent for \\n..., similar to that in the Interconnection Agmt.  We should probably look \\ninto it further for the longer term deal.  I don't know which has the \\nstronger fall back to the municipalities.\\nEd Sacks\\nHave a good rest of the weekend.  \\n -----Original Message-----\\nFrom:  Rorschach, Reagan  \\nSent: Friday, April 27, 2001 4:40 PM\\nTo: Marvin Carraway (E-mail); Marvin Carraway (E-mail 2); Robert Priest \\n(E-mail); David Fairley (E-mail); David Fairley (E-mail 2); David Fairley \\n(E-mail 3); Bentley, Corry; Comeaux, Keith; Coulter, Kayne; Cross, Edith; \\nFairley, David; Herndon, Rogers; Homco, Jim; Kumar, Madhup; Mann, Kay; May, \\nTom; Miller, Jeffrey; Morse, Brad; Nicolay, Christi; Pagan, Ozzie; Podurgiel, \\nLaura; Reeves, Leslie; Sacks, Edward; Serio, Erik; White, Stacey; Will, Lloyd\\nSubject: FW: long form confirm/MDEA\\nPlease send comments to Kay this weekend at both address below.\\nkay.mann@enron.com, kay.mann@worldnet.att.net\\nThanks, \\nReagan\\n -----Original Message-----\\nFrom:  Mann, Kay  \\nSent: Friday, April 27, 2001 4:33 PM\\nTo: Rorschach, Reagan\\nSubject: RE: long form confirm/MDEA\\nHere's where I am on the ILA.  I think it should be distributed internally \\nand to the Cities ASAP,  with an explanation that we are still pondering it.\\nKay\\n << File: MDEA ILA (Mann 4-27 draft).doc >> \\nKay\",\n",
       " 'subject': 'RE: long form confirm/MDEA',\n",
       " 'timezone': 'PDT',\n",
       " 'length': 170,\n",
       " 'year': '2001',\n",
       " 'month': 'Apr',\n",
       " 'recipients': 1,\n",
       " 'cc_participants': 0,\n",
       " 'is_reply': 1,\n",
       " 'summary': 'The email is a reply and contains information about the ILA and the agent for concept.',\n",
       " 'response': 'Date: Mon, 30 Apr 2001 00:56:00 -0700 (PDT)\\nFrom: kay.mann@enron.com\\nTo: reagan.rorschach@enron.com\\nCC: \\nSubject: RE: long form confirm/MDEA\\n\\nReagan, I have received your email and have looked into the ILA. I believe it should be distributed internally and to the Cities as soon as possible, with an explanation that we are still considering it. Let me know if you have any further questions or concerns.\\nKay'}"
      ]
     },
     "execution_count": 31,
     "metadata": {},
     "output_type": "execute_result"
    }
   ],
   "source": [
    "final_lst[1000]"
   ]
  },
  {
   "cell_type": "code",
   "execution_count": 32,
   "metadata": {},
   "outputs": [],
   "source": [
    "with open(\"../datasets/synthetic.json\", 'w') as fw:\n",
    "    json.dump(final_lst, fw, indent=4)"
   ]
  },
  {
   "cell_type": "code",
   "execution_count": null,
   "metadata": {},
   "outputs": [],
   "source": []
  },
  {
   "cell_type": "code",
   "execution_count": null,
   "metadata": {},
   "outputs": [],
   "source": []
  },
  {
   "cell_type": "code",
   "execution_count": null,
   "metadata": {},
   "outputs": [],
   "source": []
  },
  {
   "cell_type": "code",
   "execution_count": null,
   "metadata": {},
   "outputs": [],
   "source": []
  },
  {
   "cell_type": "code",
   "execution_count": null,
   "metadata": {},
   "outputs": [],
   "source": []
  },
  {
   "cell_type": "code",
   "execution_count": null,
   "metadata": {},
   "outputs": [],
   "source": []
  },
  {
   "cell_type": "code",
   "execution_count": null,
   "metadata": {},
   "outputs": [],
   "source": []
  },
  {
   "cell_type": "code",
   "execution_count": null,
   "metadata": {},
   "outputs": [],
   "source": []
  },
  {
   "cell_type": "code",
   "execution_count": null,
   "metadata": {},
   "outputs": [],
   "source": []
  },
  {
   "cell_type": "code",
   "execution_count": null,
   "metadata": {},
   "outputs": [],
   "source": []
  },
  {
   "cell_type": "code",
   "execution_count": null,
   "metadata": {},
   "outputs": [],
   "source": []
  },
  {
   "cell_type": "code",
   "execution_count": null,
   "metadata": {},
   "outputs": [],
   "source": []
  },
  {
   "cell_type": "code",
   "execution_count": null,
   "metadata": {},
   "outputs": [],
   "source": []
  },
  {
   "cell_type": "code",
   "execution_count": null,
   "metadata": {},
   "outputs": [],
   "source": []
  },
  {
   "cell_type": "code",
   "execution_count": null,
   "metadata": {},
   "outputs": [],
   "source": []
  },
  {
   "cell_type": "code",
   "execution_count": null,
   "metadata": {},
   "outputs": [],
   "source": []
  }
 ],
 "metadata": {
  "kernelspec": {
   "display_name": "llms",
   "language": "python",
   "name": "python3"
  },
  "language_info": {
   "codemirror_mode": {
    "name": "ipython",
    "version": 3
   },
   "file_extension": ".py",
   "mimetype": "text/x-python",
   "name": "python",
   "nbconvert_exporter": "python",
   "pygments_lexer": "ipython3",
   "version": "3.1.undefined"
  }
 },
 "nbformat": 4,
 "nbformat_minor": 2
}
