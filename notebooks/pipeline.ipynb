{
 "cells": [
  {
   "cell_type": "code",
   "execution_count": 37,
   "metadata": {},
   "outputs": [],
   "source": [
    "import json\n",
    "from langchain_openai import OpenAI\n",
    "import os\n",
    "import re\n",
    "from transformers import AutoTokenizer, AutoModelForTokenClassification\n",
    "from transformers import pipeline\n",
    "from loguru import logger"
   ]
  },
  {
   "cell_type": "code",
   "execution_count": 38,
   "metadata": {},
   "outputs": [
    {
     "name": "stderr",
     "output_type": "stream",
     "text": [
      "Some weights of the model checkpoint at dslim/bert-large-NER were not used when initializing BertForTokenClassification: ['bert.pooler.dense.bias', 'bert.pooler.dense.weight']\n",
      "- This IS expected if you are initializing BertForTokenClassification from the checkpoint of a model trained on another task or with another architecture (e.g. initializing a BertForSequenceClassification model from a BertForPreTraining model).\n",
      "- This IS NOT expected if you are initializing BertForTokenClassification from the checkpoint of a model that you expect to be exactly identical (initializing a BertForSequenceClassification model from a BertForSequenceClassification model).\n"
     ]
    }
   ],
   "source": [
    "os.environ[\"OPENAI_API_KEY\"] = \"\"\n",
    "llms = [OpenAI(temperature=temp) for temp in [0.2,0.4,0.6]]\n",
    "tokenizer = AutoTokenizer.from_pretrained(\"dslim/bert-large-NER\")\n",
    "model = AutoModelForTokenClassification.from_pretrained(\"dslim/bert-large-NER\")\n",
    "nlp = pipeline(\"ner\", model=model, tokenizer=tokenizer, device='cuda')\n"
   ]
  },
  {
   "cell_type": "code",
   "execution_count": 39,
   "metadata": {},
   "outputs": [],
   "source": [
    "sample = \"Date: Mon, 5 Feb 2001 03:26:00 -0800 (PST)\\nFrom: errol.mclaughlin@enron.com\\nTo: jeffrey.gossett@enron.com\\nSubject: Re: G-Daily-Est book deals to be flipped updated list\\nBody: \\nLuchas has been working on them and will be finished within the hour.\\nErrol\""
   ]
  },
  {
   "cell_type": "code",
   "execution_count": 54,
   "metadata": {},
   "outputs": [
    {
     "name": "stdout",
     "output_type": "stream",
     "text": [
      "Date: Mon, 5 Feb 2001 03:26:00 -0800 (PST)\n",
      "From: errol.mclaughlin@enron.com\n",
      "To: jeffrey.gossett@enron.com\n",
      "Subject: Re: G-Daily-Est book deals to be flipped updated list\n",
      "Body: \n",
      "Luchas has been working on them and will be finished within the hour.\n",
      "Errol\n"
     ]
    }
   ],
   "source": [
    "print(sample)"
   ]
  },
  {
   "cell_type": "code",
   "execution_count": 40,
   "metadata": {},
   "outputs": [],
   "source": [
    "def parse_email(email):\n",
    "    email_dict = {}\n",
    "    \n",
    "    date_match = re.search(r\"Date:\\s*(.*)\", email)\n",
    "    from_match = re.search(r\"From:\\s*(.*)\", email)\n",
    "    to_match = re.search(r\"To:\\s*(.*)\", email)\n",
    "    subject_match = re.search(r\"Subject:\\s*(.*)\", email)\n",
    "    body_match = re.search(r\"Body:\\s*(.*)\", email, re.DOTALL)\n",
    "    \n",
    "    email_dict['Date'] = date_match.group(1).strip() if date_match else ''\n",
    "    email_dict['From'] = from_match.group(1).strip() if from_match else ''\n",
    "    email_dict['To'] = to_match.group(1).strip() if to_match else ''\n",
    "    email_dict['Subject'] = subject_match.group(1).strip() if subject_match else ''\n",
    "    email_dict['Body'] = body_match.group(1).strip() if body_match else ''\n",
    "    if email_dict['Subject'] in ['Body:', 'Re:']:\n",
    "        email_dict['Subject'] = ''\n",
    "        \n",
    "    \n",
    "    return email_dict"
   ]
  },
  {
   "cell_type": "code",
   "execution_count": 41,
   "metadata": {},
   "outputs": [
    {
     "data": {
      "text/plain": [
       "{'Date': 'Mon, 5 Feb 2001 03:26:00 -0800 (PST)',\n",
       " 'From': 'errol.mclaughlin@enron.com',\n",
       " 'To': 'jeffrey.gossett@enron.com',\n",
       " 'Subject': 'Re: G-Daily-Est book deals to be flipped updated list',\n",
       " 'Body': 'Luchas has been working on them and will be finished within the hour.\\nErrol'}"
      ]
     },
     "execution_count": 41,
     "metadata": {},
     "output_type": "execute_result"
    }
   ],
   "source": [
    "parse_email(sample)"
   ]
  },
  {
   "cell_type": "code",
   "execution_count": 42,
   "metadata": {},
   "outputs": [],
   "source": [
    "def count_recipients(text):\n",
    "    return text.count(\"@\")"
   ]
  },
  {
   "cell_type": "code",
   "execution_count": 43,
   "metadata": {},
   "outputs": [],
   "source": [
    "def is_email_valid(email):\n",
    "    if email is None or email == \"\":\n",
    "        logger.error(\"Invalid Input.\")\n",
    "        return False\n",
    "    recipients = parse_email(email)[\"To\"]\n",
    "    if not count_recipients(recipients):\n",
    "        return False\n",
    "    return True"
   ]
  },
  {
   "cell_type": "code",
   "execution_count": 44,
   "metadata": {},
   "outputs": [
    {
     "data": {
      "text/plain": [
       "True"
      ]
     },
     "execution_count": 44,
     "metadata": {},
     "output_type": "execute_result"
    }
   ],
   "source": [
    "# test is_email_valid\n",
    "is_email_valid(sample)"
   ]
  },
  {
   "cell_type": "code",
   "execution_count": 45,
   "metadata": {},
   "outputs": [],
   "source": [
    "prompt_1 = \"\"\"Parse the provided email data and generate the following information as a single line json:\n",
    "\n",
    "* subject: The subject line of the provided email if present.\n",
    "* timezone: The timezone of the provided email if available.\n",
    "* length: The total number of words in the provided email body.\n",
    "* year: The year extracted from the date header in the provided email.\n",
    "* month: The month extracted from the date header in the provided email.\n",
    "* recipients: The total number of recipients in the provided email.\n",
    "* cc_participants: The number of participants in the CC field (0 if None) in the provided email.\n",
    "* is_reply: A boolean value (0 or 1) indicating whether the email is a reply based on the presence of \"Re:\" in the provided email.\n",
    "* summary: A concise summary of the email content, capturing key points like:\n",
    "    * Reason for the email \n",
    "    * Actions proposed \n",
    "    * Any mentioned deadlines or timeframes.\n",
    "* response: Generate an email response to the provided email in the same format as the input email from the perspective of the main recipient.\n",
    "\n",
    "** For the response, please strictly adhere to the provided email format which contains Date, From, To, CC, Subject, Body.\n",
    "\n",
    "**Provided Email:**\n",
    "\n",
    "\"\"\""
   ]
  },
  {
   "cell_type": "code",
   "execution_count": 46,
   "metadata": {},
   "outputs": [],
   "source": [
    "def get_json(pred):\n",
    "    pred = re.sub(r'(\\n\")', '\"', pred)\n",
    "    dictionary = json.loads(pred)\n",
    "    return dictionary"
   ]
  },
  {
   "cell_type": "code",
   "execution_count": 47,
   "metadata": {},
   "outputs": [],
   "source": [
    "def invoke_llm(llms, prompt, email_data, max_retries = 10):\n",
    "    for llm in llms:\n",
    "        for _ in range(max_retries):\n",
    "            try:\n",
    "                input_text = prompt + email_data\n",
    "                llm_out = llm.invoke(input_text).lstrip(\"\\n\\n\")\n",
    "                llm_json = get_json(llm_out)\n",
    "                llm_response = {\"original_email\": email_data, **llm_json}\n",
    "                return llm_response\n",
    "            except:\n",
    "                pass\n",
    "    return {}"
   ]
  },
  {
   "cell_type": "code",
   "execution_count": 48,
   "metadata": {},
   "outputs": [
    {
     "data": {
      "text/plain": [
       "{'original_email': 'Date: Mon, 5 Feb 2001 03:26:00 -0800 (PST)\\nFrom: errol.mclaughlin@enron.com\\nTo: jeffrey.gossett@enron.com\\nSubject: Re: G-Daily-Est book deals to be flipped updated list\\nBody: \\nLuchas has been working on them and will be finished within the hour.\\nErrol',\n",
       " 'subject': 'Re: G-Daily-Est book deals to be flipped updated list',\n",
       " 'timezone': 'PST',\n",
       " 'length': 14,\n",
       " 'year': 2001,\n",
       " 'month': 2,\n",
       " 'recipients': 1,\n",
       " 'cc_participants': 0,\n",
       " 'is_reply': 1,\n",
       " 'summary': 'Luchas has been working on them and will be finished within the hour.',\n",
       " 'response': 'Date: Mon, 5 Feb 2001 03:26:00 -0800 (PST)\\nFrom: jeffrey.gossett@enron.com\\nTo: errol.mclaughlin@enron.com\\nCC: \\nSubject: Re: G-Daily-Est book deals to be flipped updated list\\nBody: \\nThanks for the update, Errol. Looking forward to seeing the finished list.\\nJeffrey'}"
      ]
     },
     "execution_count": 48,
     "metadata": {},
     "output_type": "execute_result"
    }
   ],
   "source": [
    "# test invoke_llm\n",
    "invoke_llm(llms, prompt_1, sample)"
   ]
  },
  {
   "cell_type": "code",
   "execution_count": 49,
   "metadata": {},
   "outputs": [],
   "source": [
    "def reconstruct(entities, original_sentence):\n",
    "    reconstructed_entities = []\n",
    "    current_entity = \"\"\n",
    "    current_type = None\n",
    "    start_index = None\n",
    "\n",
    "    for e in entities:\n",
    "        if e['entity'].startswith(\"B-\"):\n",
    "            if current_entity:\n",
    "                reconstructed_entities.append({\n",
    "                    \"entity\": current_type,\n",
    "                    \"word\": current_entity,\n",
    "                    \"start\": start_index,\n",
    "                    \"end\": end_index\n",
    "                })\n",
    "            current_entity = e['word']\n",
    "            current_type = e['entity'][2:]\n",
    "            start_index = e['start']\n",
    "            end_index = e['end']\n",
    "        else:\n",
    "            current_entity += e['word'].replace(\"##\", \"\")\n",
    "            end_index = e['end']\n",
    "\n",
    "    if current_entity:\n",
    "        reconstructed_entities.append({\n",
    "            \"entity\": current_type,\n",
    "            \"word\": current_entity,\n",
    "            \"start\": start_index,\n",
    "            \"end\": end_index\n",
    "        })\n",
    "    \n",
    "    masked_sentence = original_sentence\n",
    "    offset = 0\n",
    "\n",
    "    for entity in reconstructed_entities:\n",
    "        replacement = \"<person>\" if entity[\"entity\"] == \"PER\" else \"<org>\"\n",
    "        start = entity[\"start\"] + offset\n",
    "        end = entity[\"end\"] + offset\n",
    "        masked_sentence = masked_sentence[:start] + replacement + masked_sentence[end:]\n",
    "        offset += len(replacement) - (end - start)\n",
    "    \n",
    "    masked_sentence = re.sub(r'(<person>)+', '<person>', masked_sentence)\n",
    "\n",
    "    # Replace multiple adjacent <org> with a single <org>\n",
    "    masked_sentence = re.sub(r'(<org>)+', '<org>', masked_sentence)\n",
    "\n",
    "\n",
    "    return masked_sentence\n",
    "\n",
    "\n",
    "def generate_masked_sentence(response):\n",
    "    ner_results = nlp(response)\n",
    "    return reconstruct(ner_results, response)\n",
    "\n"
   ]
  },
  {
   "cell_type": "code",
   "execution_count": 56,
   "metadata": {},
   "outputs": [
    {
     "name": "stdout",
     "output_type": "stream",
     "text": [
      "Date: Mon, 5 Feb 2001 03:26:00 -0800 (PST)\n",
      "From: <person>rol.<person>.com\n",
      "To: <person>.<person>.com\n",
      "Subject: Re: G-Daily-Est book deals to be flipped updated list\n",
      "Body: \n",
      "<person> has been working on them and will be finished within the hour.\n",
      "<person>\n"
     ]
    }
   ],
   "source": [
    "print(generate_masked_sentence(sample))"
   ]
  },
  {
   "cell_type": "code",
   "execution_count": 52,
   "metadata": {},
   "outputs": [],
   "source": [
    "def process(email, prompt):\n",
    "    if not is_email_valid(email):\n",
    "        logger.error(\"Invalid Email. Please check again if it's empty or there's no recipient\")\n",
    "    \n",
    "    output = invoke_llm(llms, prompt, email)\n",
    "    logger.debug(output)\n",
    "    masked_original_sentence = generate_masked_sentence(output[\"original_email\"])\n",
    "    masked_response_sentence = generate_masked_sentence(output[\"response\"])\n",
    "    logger.info(\"Masked Original Email\")\n",
    "    logger.debug(masked_original_sentence)\n",
    "    logger.info(\"Masked Response Email\")\n",
    "    logger.debug(masked_response_sentence)\n"
   ]
  },
  {
   "cell_type": "code",
   "execution_count": 53,
   "metadata": {},
   "outputs": [
    {
     "name": "stderr",
     "output_type": "stream",
     "text": [
      "\u001b[32m2024-07-01 13:40:09.293\u001b[0m | \u001b[34m\u001b[1mDEBUG   \u001b[0m | \u001b[36m__main__\u001b[0m:\u001b[36mprocess\u001b[0m:\u001b[36m6\u001b[0m - \u001b[34m\u001b[1m{'original_email': 'Date: Mon, 5 Feb 2001 03:26:00 -0800 (PST)\\nFrom: errol.mclaughlin@enron.com\\nTo: jeffrey.gossett@enron.com\\nSubject: Re: G-Daily-Est book deals to be flipped updated list\\nBody: \\nLuchas has been working on them and will be finished within the hour.\\nErrol', 'subject': 'Re: G-Daily-Est book deals to be flipped updated list', 'timezone': 'PST', 'length': 17, 'year': 2001, 'month': 'Feb', 'recipients': 1, 'cc_participants': 0, 'is_reply': 1, 'summary': 'Luchas is working on the updated list of G-Daily-Est book deals to be flipped and will be finished within the hour.', 'response': 'Date: Mon, 5 Feb 2001 03:26:00 -0800 (PST)\\nFrom: jeffrey.gossett@enron.com\\nTo: errol.mclaughlin@enron.com\\nCC: \\nSubject: Re: G-Daily-Est book deals to be flipped updated list\\nBody: \\nThanks for the update, Errol. Looking forward to seeing the finished list.\\nJeffrey'}\u001b[0m\n",
      "\u001b[32m2024-07-01 13:40:09.337\u001b[0m | \u001b[1mINFO    \u001b[0m | \u001b[36m__main__\u001b[0m:\u001b[36mprocess\u001b[0m:\u001b[36m9\u001b[0m - \u001b[1mMasked Original Email\u001b[0m\n",
      "\u001b[32m2024-07-01 13:40:09.338\u001b[0m | \u001b[34m\u001b[1mDEBUG   \u001b[0m | \u001b[36m__main__\u001b[0m:\u001b[36mprocess\u001b[0m:\u001b[36m10\u001b[0m - \u001b[34m\u001b[1mDate: Mon, 5 Feb 2001 03:26:00 -0800 (PST)\n",
      "From: <person>rol.<person>.com\n",
      "To: <person>.<person>.com\n",
      "Subject: Re: G-Daily-Est book deals to be flipped updated list\n",
      "Body: \n",
      "<person> has been working on them and will be finished within the hour.\n",
      "<person>\u001b[0m\n",
      "\u001b[32m2024-07-01 13:40:09.339\u001b[0m | \u001b[1mINFO    \u001b[0m | \u001b[36m__main__\u001b[0m:\u001b[36mprocess\u001b[0m:\u001b[36m11\u001b[0m - \u001b[1mMasked Response Email\u001b[0m\n",
      "\u001b[32m2024-07-01 13:40:09.339\u001b[0m | \u001b[34m\u001b[1mDEBUG   \u001b[0m | \u001b[36m__main__\u001b[0m:\u001b[36mprocess\u001b[0m:\u001b[36m12\u001b[0m - \u001b[34m\u001b[1mDate: Mon, 5 Feb 2001 03:26:00 -0800 (PST)\n",
      "From: <person>.<person>.com\n",
      "To: <person>rol.<person>.com\n",
      "CC: \n",
      "Subject: Re: G-Daily-Est book deals to be flipped updated list\n",
      "Body: \n",
      "Thanks for the update, <person>. Looking forward to seeing the finished list.\n",
      "<person>\u001b[0m\n"
     ]
    }
   ],
   "source": [
    "process(sample, prompt_1)"
   ]
  },
  {
   "cell_type": "code",
   "execution_count": null,
   "metadata": {},
   "outputs": [],
   "source": []
  }
 ],
 "metadata": {
  "kernelspec": {
   "display_name": "pytorch-1.11.0",
   "language": "python",
   "name": "python3"
  },
  "language_info": {
   "codemirror_mode": {
    "name": "ipython",
    "version": 3
   },
   "file_extension": ".py",
   "mimetype": "text/x-python",
   "name": "python",
   "nbconvert_exporter": "python",
   "pygments_lexer": "ipython3",
   "version": "3.9.11"
  }
 },
 "nbformat": 4,
 "nbformat_minor": 2
}
