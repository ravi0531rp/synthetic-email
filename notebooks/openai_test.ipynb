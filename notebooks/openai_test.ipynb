{
 "cells": [
  {
   "cell_type": "code",
   "execution_count": 5,
   "metadata": {},
   "outputs": [],
   "source": [
    "from langchain_openai import OpenAI\n",
    "import os"
   ]
  },
  {
   "cell_type": "code",
   "execution_count": 6,
   "metadata": {},
   "outputs": [],
   "source": [
    "os.environ[\"OPENAI_API_KEY\"] = \"\""
   ]
  },
  {
   "cell_type": "code",
   "execution_count": 7,
   "metadata": {},
   "outputs": [],
   "source": [
    "llm = OpenAI(temperature=0.8)\n"
   ]
  },
  {
   "cell_type": "markdown",
   "metadata": {},
   "source": [
    "## Summarization Prompts"
   ]
  },
  {
   "cell_type": "code",
   "execution_count": 26,
   "metadata": {},
   "outputs": [],
   "source": [
    "prompt_1 = \"\"\"Parse the provided email data and generate the following information as a single line json:\n",
    "\n",
    "* subject: The subject line of the provided email if present.\n",
    "* timezone: The timezone of the provided email if available.\n",
    "* length: The total number of words in the provided email body.\n",
    "* year: The year extracted from the date header in the provided email.\n",
    "* month: The month extracted from the date header in the provided email.\n",
    "* recipients: The total number of recipients in the provided email.\n",
    "* cc_participants: The number of participants in the CC field (0 if None) in the provided email.\n",
    "* is_reply: A boolean value (0 or 1) indicating whether the email is a reply based on the presence of \"Re:\" in the provided email.\n",
    "* summary: A concise summary of the email content, capturing key points like:\n",
    "    * Reason for the email \n",
    "    * Actions proposed \n",
    "    * Any mentioned deadlines or timeframes.\n",
    "* response: Generate an email response to the provided email in the same format as the input email from the perspective of the main recipient.\n",
    "\n",
    "**Email:**\n",
    "\n",
    "\"\"\"\n",
    "\n",
    "email = 'Date: Fri, 15 Mar 2001 07:39:00 -0800 (PST)\\nFrom: ravi.allen@enron.com\\nTo: stagecoachmama@hotmail.com\\nSubject: \\nBody: \\nLucy,\\nHere is the rentroll.\\nMy only questions are about #25, and #37 missed rent.  Any special \\nreasons?\\nIt looks like there are five vacancies #2,12,20a,35,40.  If you want to run \\nan ad in the paper with a $50 discount that is fine.\\nI will write you a letter of recommendation.  When do you need it?  You can \\nuse me as a reference.  In the next five weeks we should really have a good \\nidea whether the sale is going through.\\nPhillip'\n",
    "\n",
    "\n",
    "final_input = prompt_1 + email"
   ]
  },
  {
   "cell_type": "code",
   "execution_count": 27,
   "metadata": {},
   "outputs": [
    {
     "data": {
      "text/plain": [
       "'Parse the provided email data and generate the following information as a single line json:\\n\\n* subject: The subject line of the provided email if present.\\n* timezone: The timezone of the provided email if available.\\n* length: The total number of words in the provided email body.\\n* year: The year extracted from the date header in the provided email.\\n* month: The month extracted from the date header in the provided email.\\n* recipients: The total number of recipients in the provided email.\\n* cc_participants: The number of participants in the CC field (0 if None) in the provided email.\\n* is_reply: A boolean value (0 or 1) indicating whether the email is a reply based on the presence of \"Re:\" in the provided email.\\n* summary: A concise summary of the email content, capturing key points like:\\n    * Reason for the email \\n    * Actions proposed \\n    * Any mentioned deadlines or timeframes.\\n* response: Generate an email response to the provided email in the same format as the input email from the perspective of the main recipient.\\n\\n**Email:**\\n\\nDate: Fri, 15 Mar 2001 07:39:00 -0800 (PST)\\nFrom: ravi.allen@enron.com\\nTo: stagecoachmama@hotmail.com\\nSubject: \\nBody: \\nLucy,\\nHere is the rentroll.\\nMy only questions are about #25, and #37 missed rent.  Any special \\nreasons?\\nIt looks like there are five vacancies #2,12,20a,35,40.  If you want to run \\nan ad in the paper with a $50 discount that is fine.\\nI will write you a letter of recommendation.  When do you need it?  You can \\nuse me as a reference.  In the next five weeks we should really have a good \\nidea whether the sale is going through.\\nPhillip'"
      ]
     },
     "execution_count": 27,
     "metadata": {},
     "output_type": "execute_result"
    }
   ],
   "source": [
    "final_input"
   ]
  },
  {
   "cell_type": "code",
   "execution_count": 37,
   "metadata": {},
   "outputs": [],
   "source": [
    "pred = llm.invoke(final_input)\n",
    "pred = pred.lstrip(\"\\n\\n\")"
   ]
  },
  {
   "cell_type": "code",
   "execution_count": 38,
   "metadata": {},
   "outputs": [
    {
     "data": {
      "text/plain": [
       "'{\"subject\": \"\", \"timezone\": \"PST\", \"length\": 84, \"year\": \"2001\", \"month\": \"Mar\", \"recipients\": 1, \"cc_participants\": 0, \"is_reply\": 0, \"summary\": \"Questions about #25 and #37 missied rent, 5 vacancies #2, 12, 20a, 35,40, letter of recommendation to be written, good time frame to know about sale: 5 weeks.\", \"response\": \"Date: Fri, 15 Mar 2001 07:39:00 -0800 (PST)\\\\nFrom: stagecoachmama@hotmail.com\\\\nTo: ravi.allen@enron.com\\\\nSubject: Re: Rentroll\\\\nLucy, Yes, please write me a letter of recommendation. As for the sale, it should be finalized within the next five weeks. I will definitely keep you updated. Thank you for your help and support. Regards, Phillip\"}'"
      ]
     },
     "execution_count": 38,
     "metadata": {},
     "output_type": "execute_result"
    }
   ],
   "source": [
    "pred"
   ]
  },
  {
   "cell_type": "code",
   "execution_count": 39,
   "metadata": {},
   "outputs": [
    {
     "name": "stdout",
     "output_type": "stream",
     "text": [
      "{'subject': '', 'timezone': 'PST', 'length': 84, 'year': '2001', 'month': 'Mar', 'recipients': 1, 'cc_participants': 0, 'is_reply': 0, 'summary': 'Questions about #25 and #37 missied rent, 5 vacancies #2, 12, 20a, 35,40, letter of recommendation to be written, good time frame to know about sale: 5 weeks.', 'response': 'Date: Fri, 15 Mar 2001 07:39:00 -0800 (PST)\\nFrom: stagecoachmama@hotmail.com\\nTo: ravi.allen@enron.com\\nSubject: Re: Rentroll\\nLucy, Yes, please write me a letter of recommendation. As for the sale, it should be finalized within the next five weeks. I will definitely keep you updated. Thank you for your help and support. Regards, Phillip'}\n"
     ]
    }
   ],
   "source": [
    "import json\n",
    "import re\n",
    "\n",
    "# Given string\n",
    "\n",
    "# Replace \\n in the keys\n",
    "pred = re.sub(r'(\\n\")', '\"', pred)\n",
    "\n",
    "# Convert to dictionary\n",
    "dictionary = json.loads(pred)\n",
    "\n",
    "print(dictionary)"
   ]
  },
  {
   "cell_type": "code",
   "execution_count": 40,
   "metadata": {},
   "outputs": [],
   "source": [
    "import json\n",
    "\n",
    "def convert_to_json(gpt_output):\n",
    "    try:\n",
    "        cleaned_output = gpt_output.strip().replace('\\n', '')\n",
    "        json_object = json.loads(cleaned_output)\n",
    "        return json_object\n",
    "    except json.JSONDecodeError as e:\n",
    "        print(\"Failed to decode JSON:\", e)\n",
    "        return None\n",
    "\n"
   ]
  },
  {
   "cell_type": "code",
   "execution_count": 41,
   "metadata": {},
   "outputs": [
    {
     "data": {
      "text/plain": [
       "{'subject': '',\n",
       " 'timezone': 'PST',\n",
       " 'length': 84,\n",
       " 'year': '2001',\n",
       " 'month': 'Mar',\n",
       " 'recipients': 1,\n",
       " 'cc_participants': 0,\n",
       " 'is_reply': 0,\n",
       " 'summary': 'Questions about #25 and #37 missied rent, 5 vacancies #2, 12, 20a, 35,40, letter of recommendation to be written, good time frame to know about sale: 5 weeks.',\n",
       " 'response': 'Date: Fri, 15 Mar 2001 07:39:00 -0800 (PST)\\nFrom: stagecoachmama@hotmail.com\\nTo: ravi.allen@enron.com\\nSubject: Re: Rentroll\\nLucy, Yes, please write me a letter of recommendation. As for the sale, it should be finalized within the next five weeks. I will definitely keep you updated. Thank you for your help and support. Regards, Phillip',\n",
       " 'original_email': 'Date: Fri, 15 Mar 2001 07:39:00 -0800 (PST)\\nFrom: ravi.allen@enron.com\\nTo: stagecoachmama@hotmail.com\\nSubject: \\nBody: \\nLucy,\\nHere is the rentroll.\\nMy only questions are about #25, and #37 missed rent.  Any special \\nreasons?\\nIt looks like there are five vacancies #2,12,20a,35,40.  If you want to run \\nan ad in the paper with a $50 discount that is fine.\\nI will write you a letter of recommendation.  When do you need it?  You can \\nuse me as a reference.  In the next five weeks we should really have a good \\nidea whether the sale is going through.\\nPhillip'}"
      ]
     },
     "execution_count": 41,
     "metadata": {},
     "output_type": "execute_result"
    }
   ],
   "source": [
    "json_data = convert_to_json(pred)\n",
    "json_data[\"original_email\"] = email\n",
    "json_data"
   ]
  },
  {
   "cell_type": "code",
   "execution_count": null,
   "metadata": {},
   "outputs": [],
   "source": []
  },
  {
   "cell_type": "code",
   "execution_count": null,
   "metadata": {},
   "outputs": [],
   "source": []
  },
  {
   "cell_type": "code",
   "execution_count": null,
   "metadata": {},
   "outputs": [],
   "source": []
  },
  {
   "cell_type": "code",
   "execution_count": null,
   "metadata": {},
   "outputs": [],
   "source": []
  },
  {
   "cell_type": "code",
   "execution_count": null,
   "metadata": {},
   "outputs": [],
   "source": []
  },
  {
   "cell_type": "code",
   "execution_count": null,
   "metadata": {},
   "outputs": [],
   "source": []
  },
  {
   "cell_type": "code",
   "execution_count": null,
   "metadata": {},
   "outputs": [],
   "source": []
  },
  {
   "cell_type": "code",
   "execution_count": null,
   "metadata": {},
   "outputs": [],
   "source": []
  }
 ],
 "metadata": {
  "kernelspec": {
   "display_name": "llms",
   "language": "python",
   "name": "python3"
  },
  "language_info": {
   "codemirror_mode": {
    "name": "ipython",
    "version": 3
   },
   "file_extension": ".py",
   "mimetype": "text/x-python",
   "name": "python",
   "nbconvert_exporter": "python",
   "pygments_lexer": "ipython3",
   "version": "3.10.12"
  }
 },
 "nbformat": 4,
 "nbformat_minor": 2
}
