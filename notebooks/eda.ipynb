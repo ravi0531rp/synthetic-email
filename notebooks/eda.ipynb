{
 "cells": [
  {
   "cell_type": "markdown",
   "metadata": {},
   "source": [
    "## Load the Dataset"
   ]
  },
  {
   "cell_type": "code",
   "execution_count": 1,
   "metadata": {},
   "outputs": [
    {
     "name": "stderr",
     "output_type": "stream",
     "text": [
      "/home/ubuntu/anaconda3/envs/llms/lib/python3.10/site-packages/tqdm/auto.py:21: TqdmWarning: IProgress not found. Please update jupyter and ipywidgets. See https://ipywidgets.readthedocs.io/en/stable/user_install.html\n",
      "  from .autonotebook import tqdm as notebook_tqdm\n"
     ]
    }
   ],
   "source": [
    "from datasets import load_dataset\n",
    "\n",
    "ds = load_dataset(\"snoop2head/enron_aeslc_emails\")"
   ]
  },
  {
   "cell_type": "code",
   "execution_count": 2,
   "metadata": {},
   "outputs": [
    {
     "data": {
      "text/plain": [
       "DatasetDict({\n",
       "    train: Dataset({\n",
       "        features: ['text'],\n",
       "        num_rows: 535703\n",
       "    })\n",
       "})"
      ]
     },
     "execution_count": 2,
     "metadata": {},
     "output_type": "execute_result"
    }
   ],
   "source": [
    "ds"
   ]
  },
  {
   "cell_type": "code",
   "execution_count": 3,
   "metadata": {},
   "outputs": [
    {
     "name": "stdout",
     "output_type": "stream",
     "text": [
      "{'text': 'Date: Fri, 8 Jun 2001 11:23:00 -0700 (PDT)\\nFrom: susan.mara@enron.com\\nTo: alan.comnes@enron.com, angela.schwarz@enron.com, beverly.aden@enron.com, \\n\\tbill.votaw@enron.com, brenda.barreda@enron.com, \\n\\tcarol.moffett@enron.com, cathy.corbin@enron.com, \\n\\tchris.foster@enron.com, christina.liscano@enron.com, \\n\\tchristopher.calger@enron.com, craig.sutter@enron.com, \\n\\tdan.leff@enron.com, debora.whitehead@enron.com, \\n\\tdennis.benevides@enron.com, don.black@enron.com, \\n\\tdouglas.huth@enron.com, edward.sacks@enron.com, \\n\\teric.melvin@enron.com, erika.dupre@enron.com, evan.hughes@enron.com, \\n\\tfran.deltoro@enron.com, gayle.muench@enron.com, \\n\\tginger.dernehl@enron.com, gordon.savage@enron.com, \\n\\tharold.buchanan@enron.com, harry.kingerski@enron.com, \\n\\tjames.steffes@enron.com, james.lewis@enron.com, \\n\\tjames.wright@enron.com, jeff.messina@enron.com, \\n\\tjeremy.blachman@enron.com, jess.hewitt@enron.com, \\n\\tjoe.hartsoe@enron.com, karen.denne@enron.com, kathy.bass@enron.com, \\n\\tkathy.dodgen@enron.com, ken.gustafson@enron.com, \\n\\tkevin.hughes@enron.com, leasa.lopez@enron.com, \\n\\tleticia.botello@enron.com, mark.muller@enron.com, \\n\\tmarsha.suggs@enron.com, marty.sunde@enron.com, \\n\\tmeredith.eggleston@enron.com, michael.etringer@enron.com, \\n\\tmichael.mann@enron.com, michelle.cisneros@enron.com, \\n\\tmpalmer@enron.com, neil.bresnan@enron.com, neil.hong@enron.com, \\n\\trichard.zdunkewicz@enron.com, richard.leibert@enron.com, \\n\\trichard.shapiro@enron.com, rita.hennessy@enron.com, \\n\\trobert.badeer@enron.com, rosalinda.tijerina@enron.com, \\n\\tsandra.mccubbin@enron.com, sarah.novosel@enron.com, \\n\\tscott.gahn@enron.com, scott.stoness@enron.com, sharon.dick@enron.com, \\n\\tskean@enron.com, susan.mara@enron.com, tanya.leslie@enron.com, \\n\\ttasha.lair@enron.com, ted.murphy@enron.com, terri.greenlee@enron.com, \\n\\ttim.belden@enron.com, tony.spruiell@enron.com, vicki.sharp@enron.com, \\n\\tvladimir.gorny@enron.com, wanda.curry@enron.com, \\n\\twilliam.bradford@enron.com, jubran.whalan@enron.com, \\n\\ttriley@enron.com, richard.sanders@enron.com, \\n\\trobert.williams@enron.com, dwatkiss@bracepatt.com, \\n\\trcarroll@bracepatt.com, donna.fulton@enron.com, gfergus@brobeck.com, \\n\\tbruno.gaillard@enron.com, linda.robertson@enron.com, ren@enron.com, \\n\\tlazure@enron.com, michael.tribolet@enron.com, \\n\\tphillip.allen@enron.com, christian.yoder@enron.com, \\n\\tjklauber@llgm.com, tamara.johnson@enron.com, greg.wolfe@enron.com, \\n\\tjeff.dasovich@enron.com, dirk.vanulden@enron.com, \\n\\tsteve.walker@enron.com, james.wright@enron.com, mike.smith@enron.com, \\n\\trichard.shapiro@enron.com, leslie.lawner@enron.com, \\n\\trobert.neustaedter@enron.com, steve.walton@enron.com, \\n\\tpsmith3@enron.com, mjackso7@enron.com, janel.guerrero@enron.com, \\n\\tmark.fillinger@enron.com, jennifer.rudolph@enron.com, \\n\\tmartin.wenzel@enron.com, wgang@enron.com, joseph.alamo@enron.com, \\n\\tray.alvarez@enron.com, steve.hall@enron.com, jay.zoellner@enron.com, \\n\\tfatimata.liamidi@enron.com, sonia.perez@enron.com, \\n\\tchris.holmes@enron.com, venkatesh.mani@enron.com, \\n\\trichard.crevelt@enron.com, dave.perrino@enron.com, \\n\\tmalcolm.adkins@enron.com, paul.kaufman@enron.com, \\n\\ttracy.ngo@enron.com\\nSubject: FW: Legislative Report (06/08/2001)\\nBody: \\nSue Mara\\nEnron Corp.\\nTel: (415) 782-7802\\nFax:(415) 782-7854\\n----- Forwarded by Susan J Mara/NA/Enron on 06/08/2001 04:19 PM -----\\n\\t\"Carol Hudson\" <carol@iepa.com>\\n\\t06/08/2001 02:46 PM\\n\\tPlease respond to carol\\n\\t\\t \\n\\t\\t To: \"\\'Alex Sugaoka \\\\(E-mail\\\\)\\'\" <alex.sugaoka@uaecorp.com>, \"\\'Bill Woods \\n\\\\(E-mail\\\\)\\'\" <billw@calpine.com>, \"\\'Bob Ellery \\\\(E-mail\\\\)\\'\" \\n<bellery@spi-ind.com>, \"\\'Bob Escalante \\\\(E-mail\\\\)\\'\" \\n<rescalante@riobravo-gm.com>, \"\\'Bob Gates \\\\(E-mail\\\\)\\'\" <bob.gates@enron.com>, \\n\"\\'Carolyn A Baker \\\\(E-mail\\\\)\\'\" <cabaker@duke-energy.com>, \"Charles Linthicum \\n\\\\(E-mail\\\\)\" <charles.linthicum@powersrc.com>, \"\\'Cody Carter \\\\(E-mail\\\\)\\'\" \\n<cody.carter@williams.com>, \"\\'Curt Hatton \\\\(E-mail\\\\)\\'\" \\n<Curt.Hatton@gen.pge.com>, \"\\'Curtis Kebler \\\\(E-mail\\\\)\\'\" \\n<curtis_l_kebler@reliantenergy.com>, \"\\'David Parquet\\'\" \\n<david.parquet@enron.com>, \"\\'Dean Gosselin \\\\(E-mail\\\\)\\'\" \\n<dean_gosselin@fpl.com>, \"\\'Douglas Kerner \\\\(E-mail\\\\)\\'\" <dkk@eslawfirm.com>, \\n\"\\'Duane Nelsen \\\\(E-mail\\\\)\\'\" <dnelsen@gwfpower.com>, \"\\'Ed Tomeo \\\\(E-mail\\\\)\\'\" \\n<ed.tomeo@uaecorp.com>, \"\\'Eileen Koch \\\\(E-mail\\\\)\\'\" <eileenk@calpine.com>, \\n\"\\'Eric Eisenman \\\\(E-mail\\\\)\\'\" <eric.eisenman@gen.pge.com>, \"\\'Frank DeRosa \\n\\\\(E-mail\\\\)\\'\" <frank.derosa@gen.pge.com>, \"\\'Greg Blue \\\\(E-mail\\\\)\\'\" \\n<gtbl@dynegy.com>, \"\\'Hap Boyd \\\\(E-mail\\\\)\\'\" <Hap_Boyd@enron.com>, \"\\'Hawks Jack \\n\\\\(E-mail\\\\)\\'\" <jack.hawks@gen.pge.com>, \"\\'Jack Pigott \\\\(E-mail\\\\)\\'\" \\n<jackp@calpine.com>, \"\\'Jim Willey \\\\(E-mail\\\\)\\'\" <elliottsa@earthlink.net>, \\n\"\\'Joe Greco \\\\(E-mail\\\\)\\'\" <jgreco@caithnessenergy.com>, \"\\'Joe Ronan \\n\\\\(E-mail\\\\)\\'\" <joer@calpine.com>, \"\\'John Stout \\\\(E-mail\\\\)\\'\" \\n<john_h_stout@reliantenergy.com>, \"\\'Jonathan Weisgall \\\\(E-mail\\\\)\\'\" \\n<jweisgall@aol.com>, \"Kate Castillo \\\\(E-mail\\\\)\" <CCastillo@riobravo-gm.com>, \\n\"\\'Kelly Lloyd \\\\(E-mail\\\\)\\'\" <kellyl@enxco.com>, \"\\'Ken Hoffman \\\\(E-mail\\\\)\\'\" \\n<khoffman@caithnessenergy.com>, \"\\'Kent Fickett \\\\(E-mail\\\\)\\'\" \\n<kfickett@usgen.com>, \"\\'Kent Palmerton\\'\" <kent.palmerton@williams.com>, \\n\"\\'Lynn Lednicky \\\\(E-mail\\\\)\\'\" <lynn.a.lednicky@dynegy.com>, \"Mark Fillinger \\n\\\\(E-mail\\\\)\" <mark.fillinger@enron.com>, \"Marty McFadden \\\\(E-mail\\\\)\" \\n<mmcfadden@covantaenergy.com>, \"Paul Desrochers \\\\(E-mail\\\\)\" \\n<pdesrochers@thermoecotek.com>, \"Paula Soos \\\\(E-mail\\\\)\" \\n<psoos@covantaenergy.com>, \"\\'Randy Hickok \\\\(E-mail\\\\)\\'\" \\n<rjhickok@duke-energy.com>, \"\\'Roger Pelote \\\\(E-mail\\\\)\\'\" \\n<roger.pelote@williams.com>, \"\\'Ross Ain \\\\(E-mail\\\\)\\'\" <ain@worldnet.att.net>, \\n\"Scott Sadler \\\\(E-mail\\\\)\" <sadlersa@earthlink.net>, \"\\'Stephanie Newell \\n\\\\(E-mail\\\\)\\'\" <stephanie-newell@reliantenergy.com>, \"Steve Iliff \\\\(E-mail\\\\)\" \\n<siliff@riobravo-gm.com>, \"\\'Steve Ponder \\\\(E-mail\\\\)\\'\" <steve_ponder@fpl.com>, \\n\"\\'Susan J Mara \\\\(E-mail\\\\)\\'\" <smara@enron.com>, \"Thomas R. McMorrow \\n\\\\(E-mail\\\\)\" <tmcmorrow@manatt.com>, \"\\'Tony Wetzel \\\\(E-mail\\\\)\\'\" \\n<twetzel@thermoecotek.com>, \"William Carlson \\\\(E-mail\\\\)\" <wcarlson@wm.com>, \\n\"William Hall \\\\(E-mail\\\\)\" <wfhall2@duke-energy.com>\\n\\t\\t cc: \"Andy Brown \\\\(E-mail\\\\)\" <abb@eslawfirm.com>, \"\\'Carol Hudson \\\\(E-mail\\\\)\\'\" \\n<carol@iepa.com>, \"\\'Jan Smutny-Jones \\\\(E-mail\\\\)\\'\" <smutny@iepa.com>, \"Jean \\nMunoz \\\\(E-mail\\\\)\" <jmunoz@mcnallytemple.com>, \"\\'Katie Kaplan \\\\(E-mail\\\\)\\'\" \\n<kaplan@iepa.com>, \"Sandra Moseley \\\\(E-mail\\\\)\" <sandra@iepa.com>, \"\\'Steven \\nKelly \\\\(E-mail\\\\)\\'\" <steven@iepa.com>\\n\\t\\t Subject: FW: Legislative Report (06/08/2001)\\n Dear all,\\n>\\n> Attached please find this week\\'s legislative report.  Most of the action\\n> this week centered around the budget conference committee hearing as the\\n> deadline to pass the state\\'s budget is next Friday, June 15th.  Also,\\n> today was the last day for bills to pass out of their house of origin and\\n> sent to the other house for legislative hearings.  This week\\'s energy\\n> highlights include the following:\\n>\\n> EVENTS:\\n>\\n> * Governor Davis sends letter to the state PUC President Loretta\\n> Lynch, urging that California\\'s petroleum refineries and ancillary\\n> facilities be exempt from rotating outages. The basis for the governor\\'s\\n> letter is his stated belief that even a brief disruption of electricity\\n> for these facilities can shut down production and supply of petroleum\\n> products for several weeks. \"The availability of petroleum derived\\n> transportation fuels is critical to the public health and safety of\\n> Californians. Public safety agencies such as law enforcement, emergency\\n> medical care responders, and the military all rely on these fuels. Without\\n> petroleum fuels, the ability of these essential-use customers to perform\\n> their critical functions would be seriously impaired,\" said Governor\\n> Davis.\\n>\\n> * Governor Davis, along with top executives and business leaders in\\n> the state, announce a joint-Declaration on Thursday committed to saving 20\\n> percent in overall electricity consumption. With more than 140 businesses\\n> and organizations statewide, this \"energy-conservation\" coalition sets the\\n> following goals among others to reduce energy use: (1) set temperatures\\n> for occupied space to 78 degrees from May to October; (2) reduce lighting\\n> levels by 25 percent and an additional 25 percent upon the declaration of\\n> a Stage II emergency; (3) close blinds and shades when possible; and (4)\\n> turn off and unplug all office and kitchen equipment when not in use.\\n>\\n> * QFs will have to wait until next Wednesday to hear whether or not\\n> the state Public Utilities Commission forces utilities to pay 15 percent\\n> of back payments to some alternative-energy generators.  The PUC postponed\\n> their vote to June 13 on a proposal that would allow alternative\\n> generators who need the money to continue making electricity to ask for it\\n> from PG&E and Edison to remain in business.\\n>\\n> * The California State Senate Rules Committee, in cooperation with the\\n> Senate Select Committee to Investigate Price Manipulation in the Wholesale\\n> Energy Market, agrees on Tuesday to issue subpoenas to provide further\\n> background information in its investigation into whether generators are\\n> illegally profiteering from the state\\'s power crisis. Eight out-of-state\\n> generating companies (and perhaps, eventually, the Los Angeles Department\\n> of Water and Power and the state Department of Water Resources) stand to\\n> receive papers demanding documents on bidding, pricing, and other aspects\\n> of power sales in the state. Those companies will be Reliant Energy,\\n> Dynegy Energy Services, Inc., Williams Energy, Enron Corp., NRG Energy\\n> Inc., Duke Energy, Mirant Inc., and AES Corp.\\n>\\n> * Governor Davis signs Executive Order D-37-01 on Monday aimed at\\n> increasing small business participation in state contracting. This order\\n> mandates state agencies to push for an annual 25 percent small business\\n> participation level in state contracting and authorizes the Department of\\n> General Services (DGS) to streamline the small business certification\\n> process, increase the pool of certified small businesses, establish a\\n> Prompt Payment Advocate, and implement a state-sponsored Economic\\n> Conference and Opportunity Fair focusing on enhancing contracting\\n> opportunities for small businesses.\\n>\\n>\\n> LEGISLATION\\n>\\n> * Property taxation bill -- AB 81 by Assembly Member Carole Migden\\n> (D-San Francisco) -- passes out of the full Assembly on Thursday with 43\\n> AYES and 28 NOES. This bill would return the tax assessment authority over\\n> electric-generating facilities back to the state Board of Equalization,\\n> thereby nullifying \"Rule 905.\" Although the author asserted that her bill\\n> will not take away much-needed tax revenue from cities and counties, AB 81\\n> is considered a huge disincentive and unfair tax on current and potential\\n> electric generating companies in the state. IEP testified against this\\n> bill in committee and will continue to oppose this bill in the Senate.\\n>\\n> * Assembly Member Cohn (D-Saratoga) gains Assembly approval on\\n> Wednesday with 47 AYES and 13 NOES for her resolution asking the Federal\\n> Energy Regulatory Commission to \"impose interim price caps until the\\n> California power market has stabilized.\\'\\'  Assembly Joint Resolution 11\\n> (AJR 11) specifically states that price caps be put in place at least\\n> until California is able to bring new energy supplies on-line and for the\\n> state\\'s massive conservation efforts to take effect. The resolution\\n> asserts that California believes not enough has been done by the FERC to\\n> investigate price gouging by generators and control wholesale electricity\\n> prices and calls upon the federal regulatory agency to \"adhere to its\\n> governing statutes, its vision statement, and its own regulations for\\n> companies seeking market-based authority.\"\\n>\\n> * Path 15 study bill passes out of the full Assembly on Tuesday with\\n> unanimous support from both sides with 69 AYES and 0 NOES. If passed by\\n> the Senate, AB 460 by Assembly Member Phil Wyman (R-Tehachapi) will\\n> allocate $10 million from the California Energy Commission to the\\n> Transmission Authority of Northern California for environmental studies to\\n> see if this transmission-line group between Northern and Southern\\n> California can be expanded.\\n>\\n* Senate Bill 39xx: Public Utilities by Senator Jackie Speier\\n(D-Hillsborough) and Assembly Bill 28xx: Electrical restructuring: Oversight\\nBoard: Independent System Operator by Assembly Member Migden, both\\noriginally to be heard in committee next Monday and Tuesday respectively,\\nhave both been rescheduled to a to-be-announced later date. SB 39xx\\n\"clarifies and enhances the state\\'s PUC over in-state electric generating\\nfacilities\" while AB 28xx \"expands the authority of the Electricity\\nOversight Board and the ISO.\"\\n* Assembly Bill 35xx: Department of Water Resources: electrical\\nenergy: eminent domain by Assembly Member Juan Vargas (D-San Diego) is\\nscheduled to be heard in the Assembly Judiciary Committee this upcoming\\nTuesday. This bill would require the state Public Works Board to acquire\\neminent domain proceedings for the possession and use of real property for\\nthe generation of electrical power. This real property would be \"paid for at\\nfair market value\" and put under the control of the state Department of\\nWater Resources.  IEP opposes this bill, and will testify in opposition at\\nthe hearing.\\n <<IEPA Legislative Report.DOC>>\\n - IEPA Legislative Report.DOC'}\n",
      "{'text': 'Date: Sun, 18 Mar 2001 23:51:00 -0800 (PST)\\nFrom: michael.tribolet@enron.com\\nTo: richard.sanders@enron.com\\nSubject: FW: Energy Suppliers Creditors Group e-mail addresses\\nBody: \\n -----Original Message-----\\nFrom:  \"Mar, Patricia S.\" <PMar@mofo.com>@ENRON \\n[mailto:IMCEANOTES-+22Mar+2C+20Patricia+20S+2E+22+20+3CPMar+40mofo+2Ecom+3E+40\\nENRON@ENRON.com] \\nSent: Friday, March 16, 2001 5:36 PM\\nTo: Betty R. London; Bob Anderson; Bob Schwermann; Carl Eklund; Carlos \\nGarcia; Dan Pigeon; David Meyer; Dirk C. Minson; Don Wolfe; Edmond Chang; \\nFred G. Yanney; Howard Weg; James E. Thompson; John Bremmer; John Klauberg; \\nJohn P. Melko; John S. Sholey; Kevin E. Smith; Laura Skidmore; Mar, Patricia \\nS.; Marc Barreca; Mark Gorton; Tribolet, Michael; Nolan Steiner; Patricia E. \\nCooper; Richard N. Stevens; Sterling G. Koch; Thomas A. Freiberg, Jr.; \\nTimothy Bolden\\nSubject: Energy Suppliers Creditors Group e-mail addresses\\nAttached is a list I have made of the entities, representatives and e-mail\\naddressses of the people who have been attending our Energy Suppliers\\nCreditors Committee sessions.  Please note that I am missing the name and\\ne-mail address of any representative for PacifiCorp.\\n <<1065472.doc>>\\n============================================================================\\nThis message contains information which may be confidential and privileged.\\nUnless you are the addressee (or authorized to receive for the addressee),\\nyou may not use, copy or disclose to anyone the message or any information\\ncontained in the message.  If you have received the message in error, please\\nadvise the sender by reply e-mail @mofo.com, and delete the message.\\nThank you very much.\\n============================================================================\\n - 1065472.doc'}\n",
      "{'text': \"Date: Fri, 19 Jan 2001 08:00:00 -0800 (PST)\\nFrom: elizabeth.sager@enron.com\\nTo: brenda.whitehead@enron.com\\nSubject: please print asap\\nBody: \\n----- Forwarded by Elizabeth Sager/HOU/ECT on 01/19/2001 04:00 PM -----\\n\\tSteve C Hall\\n\\t01/19/2001 02:37 PM\\n\\t\\t \\n\\t\\t To: Elizabeth Sager/HOU/ECT@ECT, Richard B Sanders/HOU/ECT@ECT, Christian \\nYoder/HOU/ECT@ECT\\n\\t\\t cc: \\n\\t\\t Subject: PX Defaults\\nPlease forward to anyone else who needs to see this.\\n---------------------- Forwarded by Steve C Hall/PDX/ECT on 01/19/2001 12:40 \\nPM ---------------------------\\nD Brett Hunsucker\\n01/19/2001 10:59 AM\\nTo: Volume_Management_Portland, Tim Belden/HOU/ECT@ECT, Murray P \\nO'Neil/HOU/ECT@ECT, Chris Stokley/HOU/ECT, Steve C Hall/PDX/ECT@ECT, Tracy \\nNgo/PDX/ECT@ECT, Greg Wolfe/HOU/ECT@ECT, Robert Badeer/HOU/ECT@ECT\\ncc:  \\nSubject: PX Defaults\\nFYI\"}\n",
      "{'text': \"Date: Wed, 1 Aug 2001 09:12:06 -0700 (PDT)\\nFrom: hakeem.ogunbunmi@enron.com\\nTo: p..south@enron.com, kevin.ruscitti@enron.com, joe.parks@enron.com, \\n\\tscott.goodell@enron.com, l..gay@enron.com, chris.germany@enron.com, \\n\\tjudy.townsend@enron.com\\nSubject: \\nBody: \\nCc: g..barkowsky@enron.com, hakeem.ogunbunmi@enron.com\\nBcc: g..barkowsky@enron.com, hakeem.ogunbunmi@enron.com\\nHello, My name is Hakeem Ogunbunmi, I work in Volume Management. Gloria Barkowsky and I are currently working on a project to properly identify Enron's responsibility regarding how fuel should be treated on Agency contracts. i.e. is Enron responsible for the fuel or not?  Using various sources, we have been able to identify most of these. The items highlighted in red on the attachment are those  that we still need some help on.\\nIf you folks will be kind enough to take a look at these and let us know what information you have, we will greatly appreciate it.\\n \\nThanks\\nHakeem Ogunbunmi\\nVolume Management\\nEnron Net Works\\n713-853-1801\\nhakeem.ogunbunmi@enron.com\"}\n",
      "{'text': \"Date: Mon, 3 Apr 2000 10:57:00 -0700 (PDT)\\nFrom: eric.bass@enron.com\\nTo: bryan.hull@enron.com, david.baumbach@enron.com, michael.walters@enron.com\\nSubject: FINAL DECISION ON ACCRUAL VALUE\\nBody: \\nCc: brenda.herod@enron.com\\nBcc: brenda.herod@enron.com\\nTom has come to a decision on what to do with the ubiquitous accrual value.  \\n60% of this value should be credited to Greg's Transport expense on a monthly \\nbasis.  Tom, in turn, will cover Ed on this portion of the expense.\\nFor example:\\nAccrual Value comes out to be $300,000 for the month of April.\\nThis means that:\\nGreg's portion of this value is 60% of $300,000 = $180,000\\nTom's portion of this value is 40% of $300,000 = $120,000\\nGreg's Transport Expense is ($700,000)\\nSo, Tom will cover                      $180,000 of this expense\\nGreg's adjusted Expense is   ($520,000)\\nGreg's P&L is net better off by the $180,000 of accrual value\\nTom's P&L is net better off by $120,000  of accrual value which had not been \\npreviously recognized.\\nEd's P&L is net unchanged from all of the above.\\nCall with questions.\\nEric\\nx3-0977\"}\n"
     ]
    }
   ],
   "source": [
    "import random\n",
    "for _ in range(5):\n",
    "    print(ds['train'][random.randint(0, len(ds['train']))])\n",
    "\n"
   ]
  },
  {
   "cell_type": "code",
   "execution_count": 76,
   "metadata": {},
   "outputs": [
    {
     "name": "stdout",
     "output_type": "stream",
     "text": [
      "{'text': \"Date: Fri, 4 May 2001 13:51:00 -0700 (PDT)\\nFrom: phillip.allen@enron.com\\nTo: john.lavorato@enron.com\\nSubject: Re:\\nBody: \\nTraveling to have a business meeting takes the fun out of the trip.  Especially if you have to prepare a presentation.  I would suggest holding the business plan meetings here then take a trip without any formal business meetings.  I would even try and get some honest opinions on whether a trip is even desired or necessary.\\nAs far as the business meetings, I think it would be more productive to try and stimulate discussions across the different groups about what is working and what is not.  Too often the presenter speaks and the others are quiet just waiting for their turn.   The meetings might be better if held in a round table discussion format.  \\nMy suggestion for where to go is Austin.  Play golf and rent a ski boat and jet ski's.  Flying somewhere takes too much time.\"}\n"
     ]
    }
   ],
   "source": [
    "for item in ds['train']:\n",
    "    if \"Re\" in item['text']:\n",
    "        print(item)\n",
    "        break"
   ]
  },
  {
   "cell_type": "markdown",
   "metadata": {},
   "source": [
    "## Convert to DF for easier processing"
   ]
  },
  {
   "cell_type": "code",
   "execution_count": 4,
   "metadata": {},
   "outputs": [],
   "source": [
    "import pandas as pd"
   ]
  },
  {
   "cell_type": "code",
   "execution_count": 5,
   "metadata": {},
   "outputs": [],
   "source": [
    "train_df = pd.DataFrame(ds['train'])"
   ]
  },
  {
   "cell_type": "code",
   "execution_count": 6,
   "metadata": {},
   "outputs": [
    {
     "data": {
      "text/html": [
       "<div>\n",
       "<style scoped>\n",
       "    .dataframe tbody tr th:only-of-type {\n",
       "        vertical-align: middle;\n",
       "    }\n",
       "\n",
       "    .dataframe tbody tr th {\n",
       "        vertical-align: top;\n",
       "    }\n",
       "\n",
       "    .dataframe thead th {\n",
       "        text-align: right;\n",
       "    }\n",
       "</style>\n",
       "<table border=\"1\" class=\"dataframe\">\n",
       "  <thead>\n",
       "    <tr style=\"text-align: right;\">\n",
       "      <th></th>\n",
       "      <th>text</th>\n",
       "    </tr>\n",
       "  </thead>\n",
       "  <tbody>\n",
       "    <tr>\n",
       "      <th>100004</th>\n",
       "      <td>Date: Fri, 10 Dec 1999 08:33:00 -0800 (PST)\\nF...</td>\n",
       "    </tr>\n",
       "    <tr>\n",
       "      <th>11537</th>\n",
       "      <td>Date: Fri, 18 Aug 2000 05:03:00 -0700 (PDT)\\nF...</td>\n",
       "    </tr>\n",
       "    <tr>\n",
       "      <th>235435</th>\n",
       "      <td>Date: Tue, 16 Jan 2001 03:44:00 -0800 (PST)\\nF...</td>\n",
       "    </tr>\n",
       "    <tr>\n",
       "      <th>43057</th>\n",
       "      <td>Date: Mon, 31 Jul 2000 09:53:00 -0700 (PDT)\\nF...</td>\n",
       "    </tr>\n",
       "    <tr>\n",
       "      <th>240267</th>\n",
       "      <td>Date: Wed, 13 Dec 2000 07:04:00 -0800 (PST)\\nF...</td>\n",
       "    </tr>\n",
       "  </tbody>\n",
       "</table>\n",
       "</div>"
      ],
      "text/plain": [
       "                                                     text\n",
       "100004  Date: Fri, 10 Dec 1999 08:33:00 -0800 (PST)\\nF...\n",
       "11537   Date: Fri, 18 Aug 2000 05:03:00 -0700 (PDT)\\nF...\n",
       "235435  Date: Tue, 16 Jan 2001 03:44:00 -0800 (PST)\\nF...\n",
       "43057   Date: Mon, 31 Jul 2000 09:53:00 -0700 (PDT)\\nF...\n",
       "240267  Date: Wed, 13 Dec 2000 07:04:00 -0800 (PST)\\nF..."
      ]
     },
     "execution_count": 6,
     "metadata": {},
     "output_type": "execute_result"
    }
   ],
   "source": [
    "train_df.sample(5, random_state=42)"
   ]
  },
  {
   "cell_type": "code",
   "execution_count": 7,
   "metadata": {},
   "outputs": [
    {
     "data": {
      "text/plain": [
       "'Date: Thu, 15 Mar 2001 07:39:00 -0800 (PST)\\nFrom: phillip.allen@enron.com\\nTo: stagecoachmama@hotmail.com\\nSubject: \\nBody: \\nLucy,\\nHere is the rentroll.\\nMy only questions are about #18, #25, and #37 missed rent.  Any special \\nreasons?\\nIt looks like there are five vacancies #2,12,20a,35,40.  If you want to run \\nan ad in the paper with a $50 discount that is fine.\\nI will write you a letter of recommendation.  When do you need it?  You can \\nuse me as a reference.  In the next two weeks we should really have a good \\nidea whether the sale is going through.\\nPhillip'"
      ]
     },
     "execution_count": 7,
     "metadata": {},
     "output_type": "execute_result"
    }
   ],
   "source": [
    "train_df[\"text\"][1000]"
   ]
  },
  {
   "cell_type": "code",
   "execution_count": 8,
   "metadata": {},
   "outputs": [
    {
     "data": {
      "text/plain": [
       "Index(['text'], dtype='object')"
      ]
     },
     "execution_count": 8,
     "metadata": {},
     "output_type": "execute_result"
    }
   ],
   "source": [
    "train_df.columns"
   ]
  },
  {
   "cell_type": "code",
   "execution_count": 9,
   "metadata": {},
   "outputs": [
    {
     "name": "stdout",
     "output_type": "stream",
     "text": [
      "['Date:', 'From:', 'To:', 'Subject:', 'Body:', 'Re:']\n"
     ]
    }
   ],
   "source": [
    "import re\n",
    "from collections import defaultdict\n",
    "\n",
    "key_pattern = re.compile(r\"\\b([a-zA-Z]+):\")\n",
    "\n",
    "def extract_keys(text):\n",
    "    return key_pattern.findall(text)\n",
    "\n",
    "def extract_keys_ending_with_colon(text):\n",
    "    return [word for word in text.split() if word.endswith(\":\")]\n",
    "\n",
    "unique_keys = defaultdict(int)\n",
    "\n",
    "train_df['text'].apply(lambda text: [unique_keys[key] for key in extract_keys_ending_with_colon(text)])\n",
    "\n",
    "unique_key_list = list(unique_keys.keys())\n",
    "print(unique_key_list[:6])"
   ]
  },
  {
   "cell_type": "code",
   "execution_count": 10,
   "metadata": {},
   "outputs": [],
   "source": [
    "def parse_email(email):\n",
    "    email_dict = {}\n",
    "    \n",
    "    date_match = re.search(r\"Date:\\s*(.*)\", email)\n",
    "    from_match = re.search(r\"From:\\s*(.*)\", email)\n",
    "    to_match = re.search(r\"To:\\s*(.*)\", email)\n",
    "    subject_match = re.search(r\"Subject:\\s*(.*)\", email)\n",
    "    body_match = re.search(r\"Body:\\s*(.*)\", email, re.DOTALL)\n",
    "    \n",
    "    email_dict['Date'] = date_match.group(1).strip() if date_match else ''\n",
    "    email_dict['From'] = from_match.group(1).strip() if from_match else ''\n",
    "    email_dict['To'] = to_match.group(1).strip() if to_match else ''\n",
    "    email_dict['Subject'] = subject_match.group(1).strip() if subject_match else ''\n",
    "    email_dict['Body'] = body_match.group(1).strip() if body_match else ''\n",
    "    if email_dict['Subject'] in ['Body:', 'Re:']:\n",
    "        email_dict['Subject'] = ''\n",
    "        \n",
    "    \n",
    "    return email_dict"
   ]
  },
  {
   "cell_type": "code",
   "execution_count": 11,
   "metadata": {},
   "outputs": [
    {
     "data": {
      "text/plain": [
       "{'Date': 'Thu, 15 Mar 2001 07:39:00 -0800 (PST)',\n",
       " 'From': 'phillip.allen@enron.com',\n",
       " 'To': 'stagecoachmama@hotmail.com',\n",
       " 'Subject': '',\n",
       " 'Body': 'Lucy,\\nHere is the rentroll.\\nMy only questions are about #18, #25, and #37 missed rent.  Any special \\nreasons?\\nIt looks like there are five vacancies #2,12,20a,35,40.  If you want to run \\nan ad in the paper with a $50 discount that is fine.\\nI will write you a letter of recommendation.  When do you need it?  You can \\nuse me as a reference.  In the next two weeks we should really have a good \\nidea whether the sale is going through.\\nPhillip'}"
      ]
     },
     "execution_count": 11,
     "metadata": {},
     "output_type": "execute_result"
    }
   ],
   "source": [
    "email = train_df[\"text\"][1000]\n",
    "parsed_email = parse_email(email)\n",
    "parsed_email"
   ]
  },
  {
   "cell_type": "code",
   "execution_count": 12,
   "metadata": {},
   "outputs": [
    {
     "data": {
      "text/plain": [
       "'Date: Thu, 15 Mar 2001 07:39:00 -0800 (PST)\\nFrom: phillip.allen@enron.com\\nTo: stagecoachmama@hotmail.com\\nSubject: \\nBody: \\nLucy,\\nHere is the rentroll.\\nMy only questions are about #18, #25, and #37 missed rent.  Any special \\nreasons?\\nIt looks like there are five vacancies #2,12,20a,35,40.  If you want to run \\nan ad in the paper with a $50 discount that is fine.\\nI will write you a letter of recommendation.  When do you need it?  You can \\nuse me as a reference.  In the next two weeks we should really have a good \\nidea whether the sale is going through.\\nPhillip'"
      ]
     },
     "execution_count": 12,
     "metadata": {},
     "output_type": "execute_result"
    }
   ],
   "source": [
    "email"
   ]
  },
  {
   "cell_type": "code",
   "execution_count": 13,
   "metadata": {},
   "outputs": [
    {
     "data": {
      "text/html": [
       "<div>\n",
       "<style scoped>\n",
       "    .dataframe tbody tr th:only-of-type {\n",
       "        vertical-align: middle;\n",
       "    }\n",
       "\n",
       "    .dataframe tbody tr th {\n",
       "        vertical-align: top;\n",
       "    }\n",
       "\n",
       "    .dataframe thead th {\n",
       "        text-align: right;\n",
       "    }\n",
       "</style>\n",
       "<table border=\"1\" class=\"dataframe\">\n",
       "  <thead>\n",
       "    <tr style=\"text-align: right;\">\n",
       "      <th></th>\n",
       "      <th>text</th>\n",
       "    </tr>\n",
       "  </thead>\n",
       "  <tbody>\n",
       "    <tr>\n",
       "      <th>0</th>\n",
       "      <td>Date: Mon, 14 May 2001 16:39:00 -0700 (PDT)\\nF...</td>\n",
       "    </tr>\n",
       "    <tr>\n",
       "      <th>1</th>\n",
       "      <td>Date: Fri, 4 May 2001 13:51:00 -0700 (PDT)\\nFr...</td>\n",
       "    </tr>\n",
       "    <tr>\n",
       "      <th>2</th>\n",
       "      <td>Date: Wed, 18 Oct 2000 03:00:00 -0700 (PDT)\\nF...</td>\n",
       "    </tr>\n",
       "    <tr>\n",
       "      <th>3</th>\n",
       "      <td>Date: Mon, 23 Oct 2000 06:13:00 -0700 (PDT)\\nF...</td>\n",
       "    </tr>\n",
       "    <tr>\n",
       "      <th>4</th>\n",
       "      <td>Date: Thu, 31 Aug 2000 05:07:00 -0700 (PDT)\\nF...</td>\n",
       "    </tr>\n",
       "  </tbody>\n",
       "</table>\n",
       "</div>"
      ],
      "text/plain": [
       "                                                text\n",
       "0  Date: Mon, 14 May 2001 16:39:00 -0700 (PDT)\\nF...\n",
       "1  Date: Fri, 4 May 2001 13:51:00 -0700 (PDT)\\nFr...\n",
       "2  Date: Wed, 18 Oct 2000 03:00:00 -0700 (PDT)\\nF...\n",
       "3  Date: Mon, 23 Oct 2000 06:13:00 -0700 (PDT)\\nF...\n",
       "4  Date: Thu, 31 Aug 2000 05:07:00 -0700 (PDT)\\nF..."
      ]
     },
     "execution_count": 13,
     "metadata": {},
     "output_type": "execute_result"
    }
   ],
   "source": [
    "train_df.head()"
   ]
  },
  {
   "cell_type": "code",
   "execution_count": 14,
   "metadata": {},
   "outputs": [],
   "source": [
    "def check_if_reply(text):\n",
    "    if \"Re:\" in text:\n",
    "        return \"response\"\n",
    "    return \"sent\"\n"
   ]
  },
  {
   "cell_type": "code",
   "execution_count": 15,
   "metadata": {},
   "outputs": [],
   "source": [
    "train_df[\"email_type\"] = train_df[\"text\"].map(check_if_reply)"
   ]
  },
  {
   "cell_type": "code",
   "execution_count": 16,
   "metadata": {},
   "outputs": [
    {
     "data": {
      "text/html": [
       "<div>\n",
       "<style scoped>\n",
       "    .dataframe tbody tr th:only-of-type {\n",
       "        vertical-align: middle;\n",
       "    }\n",
       "\n",
       "    .dataframe tbody tr th {\n",
       "        vertical-align: top;\n",
       "    }\n",
       "\n",
       "    .dataframe thead th {\n",
       "        text-align: right;\n",
       "    }\n",
       "</style>\n",
       "<table border=\"1\" class=\"dataframe\">\n",
       "  <thead>\n",
       "    <tr style=\"text-align: right;\">\n",
       "      <th></th>\n",
       "      <th>text</th>\n",
       "      <th>email_type</th>\n",
       "    </tr>\n",
       "  </thead>\n",
       "  <tbody>\n",
       "    <tr>\n",
       "      <th>287627</th>\n",
       "      <td>Date: Tue, 10 Oct 2000 08:08:00 -0700 (PDT)\\nF...</td>\n",
       "      <td>sent</td>\n",
       "    </tr>\n",
       "    <tr>\n",
       "      <th>432908</th>\n",
       "      <td>Date: Fri, 9 Feb 2001 04:15:00 -0800 (PST)\\nFr...</td>\n",
       "      <td>response</td>\n",
       "    </tr>\n",
       "    <tr>\n",
       "      <th>476494</th>\n",
       "      <td>Date: Tue, 30 Jan 2001 01:39:00 -0800 (PST)\\nF...</td>\n",
       "      <td>sent</td>\n",
       "    </tr>\n",
       "    <tr>\n",
       "      <th>446093</th>\n",
       "      <td>Date: Tue, 12 Dec 2000 04:15:00 -0800 (PST)\\nF...</td>\n",
       "      <td>sent</td>\n",
       "    </tr>\n",
       "    <tr>\n",
       "      <th>460912</th>\n",
       "      <td>Date: Tue, 22 May 2001 17:11:00 -0700 (PDT)\\nF...</td>\n",
       "      <td>sent</td>\n",
       "    </tr>\n",
       "  </tbody>\n",
       "</table>\n",
       "</div>"
      ],
      "text/plain": [
       "                                                     text email_type\n",
       "287627  Date: Tue, 10 Oct 2000 08:08:00 -0700 (PDT)\\nF...       sent\n",
       "432908  Date: Fri, 9 Feb 2001 04:15:00 -0800 (PST)\\nFr...   response\n",
       "476494  Date: Tue, 30 Jan 2001 01:39:00 -0800 (PST)\\nF...       sent\n",
       "446093  Date: Tue, 12 Dec 2000 04:15:00 -0800 (PST)\\nF...       sent\n",
       "460912  Date: Tue, 22 May 2001 17:11:00 -0700 (PDT)\\nF...       sent"
      ]
     },
     "execution_count": 16,
     "metadata": {},
     "output_type": "execute_result"
    }
   ],
   "source": [
    "train_df.sample(5)"
   ]
  },
  {
   "cell_type": "code",
   "execution_count": 17,
   "metadata": {},
   "outputs": [
    {
     "data": {
      "text/plain": [
       "email_type\n",
       "sent        421791\n",
       "response    113912\n",
       "Name: count, dtype: int64"
      ]
     },
     "execution_count": 17,
     "metadata": {},
     "output_type": "execute_result"
    }
   ],
   "source": [
    "train_df[\"email_type\"].value_counts()"
   ]
  },
  {
   "cell_type": "code",
   "execution_count": 18,
   "metadata": {},
   "outputs": [
    {
     "data": {
      "text/plain": [
       "email_type\n",
       "sent        0.78736\n",
       "response    0.21264\n",
       "Name: proportion, dtype: float64"
      ]
     },
     "execution_count": 18,
     "metadata": {},
     "output_type": "execute_result"
    }
   ],
   "source": [
    "train_df[\"email_type\"].value_counts(normalize=True)"
   ]
  },
  {
   "cell_type": "code",
   "execution_count": 19,
   "metadata": {},
   "outputs": [],
   "source": [
    "df_parsed = train_df['text'].apply(parse_email).apply(pd.Series)\n"
   ]
  },
  {
   "cell_type": "code",
   "execution_count": 20,
   "metadata": {},
   "outputs": [],
   "source": [
    "df_parsed = pd.concat([train_df[['text', 'email_type']], df_parsed], axis=1)"
   ]
  },
  {
   "cell_type": "code",
   "execution_count": 21,
   "metadata": {},
   "outputs": [
    {
     "data": {
      "text/html": [
       "<div>\n",
       "<style scoped>\n",
       "    .dataframe tbody tr th:only-of-type {\n",
       "        vertical-align: middle;\n",
       "    }\n",
       "\n",
       "    .dataframe tbody tr th {\n",
       "        vertical-align: top;\n",
       "    }\n",
       "\n",
       "    .dataframe thead th {\n",
       "        text-align: right;\n",
       "    }\n",
       "</style>\n",
       "<table border=\"1\" class=\"dataframe\">\n",
       "  <thead>\n",
       "    <tr style=\"text-align: right;\">\n",
       "      <th></th>\n",
       "      <th>text</th>\n",
       "      <th>email_type</th>\n",
       "      <th>Date</th>\n",
       "      <th>From</th>\n",
       "      <th>To</th>\n",
       "      <th>Subject</th>\n",
       "      <th>Body</th>\n",
       "    </tr>\n",
       "  </thead>\n",
       "  <tbody>\n",
       "    <tr>\n",
       "      <th>8558</th>\n",
       "      <td>Date: Mon, 5 Nov 2001 09:59:19 -0800 (PST)\\nFr...</td>\n",
       "      <td>sent</td>\n",
       "      <td>Mon, 5 Nov 2001 09:59:19 -0800 (PST)</td>\n",
       "      <td>harry.arora@enron.com</td>\n",
       "      <td>iris.mack@enron.com, greg.blair@enron.com</td>\n",
       "      <td>RE: Synthetic Peaker</td>\n",
       "      <td>This is for energy only, i.e, its an into prod...</td>\n",
       "    </tr>\n",
       "    <tr>\n",
       "      <th>331993</th>\n",
       "      <td>Date: Thu, 12 Jul 2001 07:28:46 -0700 (PDT)\\nF...</td>\n",
       "      <td>sent</td>\n",
       "      <td>Thu, 12 Jul 2001 07:28:46 -0700 (PDT)</td>\n",
       "      <td>mark.dickin@enron.com</td>\n",
       "      <td>jonathan.mckay@enron.com</td>\n",
       "      <td>Nat Gas Price - Point on the Bow</td>\n",
       "      <td>Hi Jon;\\nThis client is looking to contract to...</td>\n",
       "    </tr>\n",
       "    <tr>\n",
       "      <th>54190</th>\n",
       "      <td>Date: Fri, 3 Aug 2001 11:39:08 -0700 (PDT)\\nFr...</td>\n",
       "      <td>sent</td>\n",
       "      <td>Fri, 3 Aug 2001 11:39:08 -0700 (PDT)</td>\n",
       "      <td>sean.crandall@enron.com</td>\n",
       "      <td>fran.chang@enron.com, stewart.rosman@enron.com</td>\n",
       "      <td>RE: Modesto deal changes made</td>\n",
       "      <td>Cc: diana.scholtes@enron.com\\nBcc: diana.schol...</td>\n",
       "    </tr>\n",
       "    <tr>\n",
       "      <th>138171</th>\n",
       "      <td>Date: Tue, 19 Sep 2000 03:16:00 -0700 (PDT)\\nF...</td>\n",
       "      <td>sent</td>\n",
       "      <td>Tue, 19 Sep 2000 03:16:00 -0700 (PDT)</td>\n",
       "      <td>darron.giron@enron.com</td>\n",
       "      <td>greg.couch@enron.com</td>\n",
       "      <td>Fwd: Fw: Senate Bill SB-2099</td>\n",
       "      <td>I got this from some hunter friends.  Thought ...</td>\n",
       "    </tr>\n",
       "    <tr>\n",
       "      <th>348754</th>\n",
       "      <td>Date: Wed, 8 Aug 2001 13:21:33 -0700 (PDT)\\nFr...</td>\n",
       "      <td>sent</td>\n",
       "      <td>Wed, 8 Aug 2001 13:21:33 -0700 (PDT)</td>\n",
       "      <td>jean.mrha@enron.com</td>\n",
       "      <td>gerald.nemec@enron.com</td>\n",
       "      <td>Updated: Letter to Dow / CA to Marathon</td>\n",
       "      <td>When: Wednesday, August 08, 2001 4:30 PM-5:30 ...</td>\n",
       "    </tr>\n",
       "  </tbody>\n",
       "</table>\n",
       "</div>"
      ],
      "text/plain": [
       "                                                     text email_type  \\\n",
       "8558    Date: Mon, 5 Nov 2001 09:59:19 -0800 (PST)\\nFr...       sent   \n",
       "331993  Date: Thu, 12 Jul 2001 07:28:46 -0700 (PDT)\\nF...       sent   \n",
       "54190   Date: Fri, 3 Aug 2001 11:39:08 -0700 (PDT)\\nFr...       sent   \n",
       "138171  Date: Tue, 19 Sep 2000 03:16:00 -0700 (PDT)\\nF...       sent   \n",
       "348754  Date: Wed, 8 Aug 2001 13:21:33 -0700 (PDT)\\nFr...       sent   \n",
       "\n",
       "                                         Date                     From  \\\n",
       "8558     Mon, 5 Nov 2001 09:59:19 -0800 (PST)    harry.arora@enron.com   \n",
       "331993  Thu, 12 Jul 2001 07:28:46 -0700 (PDT)    mark.dickin@enron.com   \n",
       "54190    Fri, 3 Aug 2001 11:39:08 -0700 (PDT)  sean.crandall@enron.com   \n",
       "138171  Tue, 19 Sep 2000 03:16:00 -0700 (PDT)   darron.giron@enron.com   \n",
       "348754   Wed, 8 Aug 2001 13:21:33 -0700 (PDT)      jean.mrha@enron.com   \n",
       "\n",
       "                                                    To  \\\n",
       "8558         iris.mack@enron.com, greg.blair@enron.com   \n",
       "331993                        jonathan.mckay@enron.com   \n",
       "54190   fran.chang@enron.com, stewart.rosman@enron.com   \n",
       "138171                            greg.couch@enron.com   \n",
       "348754                          gerald.nemec@enron.com   \n",
       "\n",
       "                                        Subject  \\\n",
       "8558                       RE: Synthetic Peaker   \n",
       "331993         Nat Gas Price - Point on the Bow   \n",
       "54190             RE: Modesto deal changes made   \n",
       "138171             Fwd: Fw: Senate Bill SB-2099   \n",
       "348754  Updated: Letter to Dow / CA to Marathon   \n",
       "\n",
       "                                                     Body  \n",
       "8558    This is for energy only, i.e, its an into prod...  \n",
       "331993  Hi Jon;\\nThis client is looking to contract to...  \n",
       "54190   Cc: diana.scholtes@enron.com\\nBcc: diana.schol...  \n",
       "138171  I got this from some hunter friends.  Thought ...  \n",
       "348754  When: Wednesday, August 08, 2001 4:30 PM-5:30 ...  "
      ]
     },
     "execution_count": 21,
     "metadata": {},
     "output_type": "execute_result"
    }
   ],
   "source": [
    "df_parsed.sample(5)"
   ]
  },
  {
   "cell_type": "code",
   "execution_count": 102,
   "metadata": {},
   "outputs": [
    {
     "data": {
      "text/plain": [
       "20332"
      ]
     },
     "execution_count": 102,
     "metadata": {},
     "output_type": "execute_result"
    }
   ],
   "source": [
    "df_parsed[\"From\"].nunique()"
   ]
  },
  {
   "cell_type": "markdown",
   "metadata": {},
   "source": [
    "## Empty Subject Line"
   ]
  },
  {
   "cell_type": "code",
   "execution_count": 103,
   "metadata": {},
   "outputs": [
    {
     "data": {
      "text/html": [
       "<div>\n",
       "<style scoped>\n",
       "    .dataframe tbody tr th:only-of-type {\n",
       "        vertical-align: middle;\n",
       "    }\n",
       "\n",
       "    .dataframe tbody tr th {\n",
       "        vertical-align: top;\n",
       "    }\n",
       "\n",
       "    .dataframe thead th {\n",
       "        text-align: right;\n",
       "    }\n",
       "</style>\n",
       "<table border=\"1\" class=\"dataframe\">\n",
       "  <thead>\n",
       "    <tr style=\"text-align: right;\">\n",
       "      <th></th>\n",
       "      <th>text</th>\n",
       "      <th>email_type</th>\n",
       "      <th>Date</th>\n",
       "      <th>From</th>\n",
       "      <th>To</th>\n",
       "      <th>Subject</th>\n",
       "      <th>Body</th>\n",
       "    </tr>\n",
       "  </thead>\n",
       "  <tbody>\n",
       "    <tr>\n",
       "      <th>0</th>\n",
       "      <td>Date: Mon, 14 May 2001 16:39:00 -0700 (PDT)\\nF...</td>\n",
       "      <td>sent</td>\n",
       "      <td>Mon, 14 May 2001 16:39:00 -0700 (PDT)</td>\n",
       "      <td>phillip.allen@enron.com</td>\n",
       "      <td>tim.belden@enron.com</td>\n",
       "      <td></td>\n",
       "      <td>Here is our forecast</td>\n",
       "    </tr>\n",
       "    <tr>\n",
       "      <th>1</th>\n",
       "      <td>Date: Fri, 4 May 2001 13:51:00 -0700 (PDT)\\nFr...</td>\n",
       "      <td>response</td>\n",
       "      <td>Fri, 4 May 2001 13:51:00 -0700 (PDT)</td>\n",
       "      <td>phillip.allen@enron.com</td>\n",
       "      <td>john.lavorato@enron.com</td>\n",
       "      <td></td>\n",
       "      <td>Traveling to have a business meeting takes the...</td>\n",
       "    </tr>\n",
       "    <tr>\n",
       "      <th>3</th>\n",
       "      <td>Date: Mon, 23 Oct 2000 06:13:00 -0700 (PDT)\\nF...</td>\n",
       "      <td>sent</td>\n",
       "      <td>Mon, 23 Oct 2000 06:13:00 -0700 (PDT)</td>\n",
       "      <td>phillip.allen@enron.com</td>\n",
       "      <td>randall.gay@enron.com</td>\n",
       "      <td></td>\n",
       "      <td>Randy,\\n Can you send me a schedule of the sal...</td>\n",
       "    </tr>\n",
       "    <tr>\n",
       "      <th>6</th>\n",
       "      <td>Date: Tue, 22 Aug 2000 07:44:00 -0700 (PDT)\\nF...</td>\n",
       "      <td>sent</td>\n",
       "      <td>Tue, 22 Aug 2000 07:44:00 -0700 (PDT)</td>\n",
       "      <td>phillip.allen@enron.com</td>\n",
       "      <td>david.l.johnson@enron.com, john.shafer@enron.com</td>\n",
       "      <td></td>\n",
       "      <td>Please cc the following distribution list with...</td>\n",
       "    </tr>\n",
       "    <tr>\n",
       "      <th>11</th>\n",
       "      <td>Date: Fri, 13 Oct 2000 06:45:00 -0700 (PDT)\\nF...</td>\n",
       "      <td>sent</td>\n",
       "      <td>Fri, 13 Oct 2000 06:45:00 -0700 (PDT)</td>\n",
       "      <td>phillip.allen@enron.com</td>\n",
       "      <td>stagecoachmama@hotmail.com</td>\n",
       "      <td></td>\n",
       "      <td>Lucy,\\n Here are the rentrolls:\\n Open them an...</td>\n",
       "    </tr>\n",
       "    <tr>\n",
       "      <th>...</th>\n",
       "      <td>...</td>\n",
       "      <td>...</td>\n",
       "      <td>...</td>\n",
       "      <td>...</td>\n",
       "      <td>...</td>\n",
       "      <td>...</td>\n",
       "      <td>...</td>\n",
       "    </tr>\n",
       "    <tr>\n",
       "      <th>516846</th>\n",
       "      <td>Date: Tue, 5 Feb 2002 09:43:01 -0800 (PST)\\nFr...</td>\n",
       "      <td>sent</td>\n",
       "      <td>Tue, 5 Feb 2002 09:43:01 -0800 (PST)</td>\n",
       "      <td>john.zufferli@enron.com</td>\n",
       "      <td></td>\n",
       "      <td></td>\n",
       "      <td>Conference call with UBS</td>\n",
       "    </tr>\n",
       "    <tr>\n",
       "      <th>516853</th>\n",
       "      <td>Date: Wed, 6 Feb 2002 11:38:22 -0800 (PST)\\nFr...</td>\n",
       "      <td>sent</td>\n",
       "      <td>Wed, 6 Feb 2002 11:38:22 -0800 (PST)</td>\n",
       "      <td>frank.hayden@enron.com</td>\n",
       "      <td>john.zufferli@enron.com</td>\n",
       "      <td></td>\n",
       "      <td>Sorry I missed call.  My understanding is that...</td>\n",
       "    </tr>\n",
       "    <tr>\n",
       "      <th>517247</th>\n",
       "      <td>Date: Thu, 2 Aug 2001 10:02:58 -0700 (PDT)\\nFr...</td>\n",
       "      <td>sent</td>\n",
       "      <td>Thu, 2 Aug 2001 10:02:58 -0700 (PDT)</td>\n",
       "      <td>john.zufferli@enron.com</td>\n",
       "      <td>majordomo@majordomo.pjm</td>\n",
       "      <td></td>\n",
       "      <td>unsubscribe pjm-customer-info</td>\n",
       "    </tr>\n",
       "    <tr>\n",
       "      <th>517289</th>\n",
       "      <td>Date: Tue, 3 Jul 2001 12:31:56 -0700 (PDT)\\nFr...</td>\n",
       "      <td>sent</td>\n",
       "      <td>Tue, 3 Jul 2001 12:31:56 -0700 (PDT)</td>\n",
       "      <td>john.zufferli@enron.com</td>\n",
       "      <td>john.lavorato@enron.com</td>\n",
       "      <td></td>\n",
       "      <td>home number is (403) 685-4817</td>\n",
       "    </tr>\n",
       "    <tr>\n",
       "      <th>517311</th>\n",
       "      <td>Date: Wed, 20 Jun 2001 13:17:46 -0700 (PDT)\\nF...</td>\n",
       "      <td>sent</td>\n",
       "      <td>Wed, 20 Jun 2001 13:17:46 -0700 (PDT)</td>\n",
       "      <td>john.zufferli@enron.com</td>\n",
       "      <td>john.postlethwaite@enron.com</td>\n",
       "      <td></td>\n",
       "      <td>Please give Enpower access to Murray Fichten, ...</td>\n",
       "    </tr>\n",
       "  </tbody>\n",
       "</table>\n",
       "<p>25495 rows × 7 columns</p>\n",
       "</div>"
      ],
      "text/plain": [
       "                                                     text email_type  \\\n",
       "0       Date: Mon, 14 May 2001 16:39:00 -0700 (PDT)\\nF...       sent   \n",
       "1       Date: Fri, 4 May 2001 13:51:00 -0700 (PDT)\\nFr...   response   \n",
       "3       Date: Mon, 23 Oct 2000 06:13:00 -0700 (PDT)\\nF...       sent   \n",
       "6       Date: Tue, 22 Aug 2000 07:44:00 -0700 (PDT)\\nF...       sent   \n",
       "11      Date: Fri, 13 Oct 2000 06:45:00 -0700 (PDT)\\nF...       sent   \n",
       "...                                                   ...        ...   \n",
       "516846  Date: Tue, 5 Feb 2002 09:43:01 -0800 (PST)\\nFr...       sent   \n",
       "516853  Date: Wed, 6 Feb 2002 11:38:22 -0800 (PST)\\nFr...       sent   \n",
       "517247  Date: Thu, 2 Aug 2001 10:02:58 -0700 (PDT)\\nFr...       sent   \n",
       "517289  Date: Tue, 3 Jul 2001 12:31:56 -0700 (PDT)\\nFr...       sent   \n",
       "517311  Date: Wed, 20 Jun 2001 13:17:46 -0700 (PDT)\\nF...       sent   \n",
       "\n",
       "                                         Date                     From  \\\n",
       "0       Mon, 14 May 2001 16:39:00 -0700 (PDT)  phillip.allen@enron.com   \n",
       "1        Fri, 4 May 2001 13:51:00 -0700 (PDT)  phillip.allen@enron.com   \n",
       "3       Mon, 23 Oct 2000 06:13:00 -0700 (PDT)  phillip.allen@enron.com   \n",
       "6       Tue, 22 Aug 2000 07:44:00 -0700 (PDT)  phillip.allen@enron.com   \n",
       "11      Fri, 13 Oct 2000 06:45:00 -0700 (PDT)  phillip.allen@enron.com   \n",
       "...                                       ...                      ...   \n",
       "516846   Tue, 5 Feb 2002 09:43:01 -0800 (PST)  john.zufferli@enron.com   \n",
       "516853   Wed, 6 Feb 2002 11:38:22 -0800 (PST)   frank.hayden@enron.com   \n",
       "517247   Thu, 2 Aug 2001 10:02:58 -0700 (PDT)  john.zufferli@enron.com   \n",
       "517289   Tue, 3 Jul 2001 12:31:56 -0700 (PDT)  john.zufferli@enron.com   \n",
       "517311  Wed, 20 Jun 2001 13:17:46 -0700 (PDT)  john.zufferli@enron.com   \n",
       "\n",
       "                                                      To Subject  \\\n",
       "0                                   tim.belden@enron.com           \n",
       "1                                john.lavorato@enron.com           \n",
       "3                                  randall.gay@enron.com           \n",
       "6       david.l.johnson@enron.com, john.shafer@enron.com           \n",
       "11                            stagecoachmama@hotmail.com           \n",
       "...                                                  ...     ...   \n",
       "516846                                                             \n",
       "516853                           john.zufferli@enron.com           \n",
       "517247                           majordomo@majordomo.pjm           \n",
       "517289                           john.lavorato@enron.com           \n",
       "517311                      john.postlethwaite@enron.com           \n",
       "\n",
       "                                                     Body  \n",
       "0                                    Here is our forecast  \n",
       "1       Traveling to have a business meeting takes the...  \n",
       "3       Randy,\\n Can you send me a schedule of the sal...  \n",
       "6       Please cc the following distribution list with...  \n",
       "11      Lucy,\\n Here are the rentrolls:\\n Open them an...  \n",
       "...                                                   ...  \n",
       "516846                           Conference call with UBS  \n",
       "516853  Sorry I missed call.  My understanding is that...  \n",
       "517247                      unsubscribe pjm-customer-info  \n",
       "517289                      home number is (403) 685-4817  \n",
       "517311  Please give Enpower access to Murray Fichten, ...  \n",
       "\n",
       "[25495 rows x 7 columns]"
      ]
     },
     "execution_count": 103,
     "metadata": {},
     "output_type": "execute_result"
    }
   ],
   "source": [
    "df_parsed[df_parsed['Subject'] == \"\"]"
   ]
  },
  {
   "cell_type": "code",
   "execution_count": 139,
   "metadata": {},
   "outputs": [
    {
     "data": {
      "text/plain": [
       "5.099650800680116"
      ]
     },
     "execution_count": 139,
     "metadata": {},
     "output_type": "execute_result"
    }
   ],
   "source": [
    "(df_parsed[df_parsed['Subject'] == \"\"].shape[0]/len(df_parsed))*100"
   ]
  },
  {
   "cell_type": "code",
   "execution_count": 105,
   "metadata": {},
   "outputs": [
    {
     "data": {
      "text/plain": [
       "((25495, 7), (510208, 7))"
      ]
     },
     "execution_count": 105,
     "metadata": {},
     "output_type": "execute_result"
    }
   ],
   "source": [
    "df_parsed[df_parsed['Subject'] == \"\"].shape, df_parsed[df_parsed['Subject'] != \"\"].shape"
   ]
  },
  {
   "cell_type": "markdown",
   "metadata": {},
   "source": [
    "## Recipients Counts"
   ]
  },
  {
   "cell_type": "code",
   "execution_count": 106,
   "metadata": {},
   "outputs": [],
   "source": [
    "def count_recipients(text):\n",
    "    return text.count(\"@\")"
   ]
  },
  {
   "cell_type": "code",
   "execution_count": 107,
   "metadata": {},
   "outputs": [],
   "source": [
    "df_parsed[\"recipients_count\"] = df_parsed[\"To\"].apply(count_recipients)"
   ]
  },
  {
   "cell_type": "code",
   "execution_count": 108,
   "metadata": {},
   "outputs": [
    {
     "data": {
      "text/html": [
       "<div>\n",
       "<style scoped>\n",
       "    .dataframe tbody tr th:only-of-type {\n",
       "        vertical-align: middle;\n",
       "    }\n",
       "\n",
       "    .dataframe tbody tr th {\n",
       "        vertical-align: top;\n",
       "    }\n",
       "\n",
       "    .dataframe thead th {\n",
       "        text-align: right;\n",
       "    }\n",
       "</style>\n",
       "<table border=\"1\" class=\"dataframe\">\n",
       "  <thead>\n",
       "    <tr style=\"text-align: right;\">\n",
       "      <th></th>\n",
       "      <th>text</th>\n",
       "      <th>email_type</th>\n",
       "      <th>Date</th>\n",
       "      <th>From</th>\n",
       "      <th>To</th>\n",
       "      <th>Subject</th>\n",
       "      <th>Body</th>\n",
       "      <th>recipients_count</th>\n",
       "    </tr>\n",
       "  </thead>\n",
       "  <tbody>\n",
       "    <tr>\n",
       "      <th>93127</th>\n",
       "      <td>Date: Tue, 17 Apr 2001 06:52:24 -0700 (PDT)\\nF...</td>\n",
       "      <td>sent</td>\n",
       "      <td>Tue, 17 Apr 2001 06:52:24 -0700 (PDT)</td>\n",
       "      <td>james.derrick@enron.com</td>\n",
       "      <td>matthias.lee@enron.com</td>\n",
       "      <td>RE: Tenancy dispute - approval for engaging ex...</td>\n",
       "      <td>Cc: alan.aronowitz@enron.com, angeline.poon@en...</td>\n",
       "      <td>1</td>\n",
       "    </tr>\n",
       "    <tr>\n",
       "      <th>419407</th>\n",
       "      <td>Date: Thu, 1 Mar 2001 10:23:00 -0800 (PST)\\nFr...</td>\n",
       "      <td>sent</td>\n",
       "      <td>Thu, 1 Mar 2001 10:23:00 -0800 (PST)</td>\n",
       "      <td>denis.o'connell@enron.com</td>\n",
       "      <td>sara.shackleton@enron.com</td>\n",
       "      <td>FSA Synthetic CBO (Mezzanine USD 120m - USD 270m)</td>\n",
       "      <td>Cc: mark.taylor@enron.com, jeff.kinneman@enron...</td>\n",
       "      <td>1</td>\n",
       "    </tr>\n",
       "    <tr>\n",
       "      <th>18159</th>\n",
       "      <td>Date: Mon, 1 Oct 2001 08:31:07 -0700 (PDT)\\nFr...</td>\n",
       "      <td>sent</td>\n",
       "      <td>Mon, 1 Oct 2001 08:31:07 -0700 (PDT)</td>\n",
       "      <td>rika.imai@enron.com</td>\n",
       "      <td>rika.imai@enron.com, don.baughman@enron.com, s...</td>\n",
       "      <td>Updated: Richard Heidorn - Traders News Energy</td>\n",
       "      <td>Discussion of the validity of the information ...</td>\n",
       "      <td>3</td>\n",
       "    </tr>\n",
       "    <tr>\n",
       "      <th>272586</th>\n",
       "      <td>Date: Thu, 27 Dec 2001 15:18:36 -0800 (PST)\\nF...</td>\n",
       "      <td>sent</td>\n",
       "      <td>Thu, 27 Dec 2001 15:18:36 -0800 (PST)</td>\n",
       "      <td>sostrow@uh.edu</td>\n",
       "      <td>kenneth.lay@enron.com</td>\n",
       "      <td>Institute for Advanced Study in Musical Theatre</td>\n",
       "      <td>Cc: leo3@linbeck.com\\nBcc: leo3@linbeck.com\\nD...</td>\n",
       "      <td>1</td>\n",
       "    </tr>\n",
       "    <tr>\n",
       "      <th>395306</th>\n",
       "      <td>Date: Wed, 1 Nov 2000 01:36:00 -0800 (PST)\\nFr...</td>\n",
       "      <td>sent</td>\n",
       "      <td>Wed, 1 Nov 2000 01:36:00 -0800 (PST)</td>\n",
       "      <td>dan.lyons@enron.com</td>\n",
       "      <td>richard.sanders@enron.com, tmoore@llgm.com, dh...</td>\n",
       "      <td>Tenaska IV Availability</td>\n",
       "      <td>hmmm.........\\n----- Forwarded by Dan Lyons/HO...</td>\n",
       "      <td>3</td>\n",
       "    </tr>\n",
       "  </tbody>\n",
       "</table>\n",
       "</div>"
      ],
      "text/plain": [
       "                                                     text email_type  \\\n",
       "93127   Date: Tue, 17 Apr 2001 06:52:24 -0700 (PDT)\\nF...       sent   \n",
       "419407  Date: Thu, 1 Mar 2001 10:23:00 -0800 (PST)\\nFr...       sent   \n",
       "18159   Date: Mon, 1 Oct 2001 08:31:07 -0700 (PDT)\\nFr...       sent   \n",
       "272586  Date: Thu, 27 Dec 2001 15:18:36 -0800 (PST)\\nF...       sent   \n",
       "395306  Date: Wed, 1 Nov 2000 01:36:00 -0800 (PST)\\nFr...       sent   \n",
       "\n",
       "                                         Date                       From  \\\n",
       "93127   Tue, 17 Apr 2001 06:52:24 -0700 (PDT)    james.derrick@enron.com   \n",
       "419407   Thu, 1 Mar 2001 10:23:00 -0800 (PST)  denis.o'connell@enron.com   \n",
       "18159    Mon, 1 Oct 2001 08:31:07 -0700 (PDT)        rika.imai@enron.com   \n",
       "272586  Thu, 27 Dec 2001 15:18:36 -0800 (PST)             sostrow@uh.edu   \n",
       "395306   Wed, 1 Nov 2000 01:36:00 -0800 (PST)        dan.lyons@enron.com   \n",
       "\n",
       "                                                       To  \\\n",
       "93127                              matthias.lee@enron.com   \n",
       "419407                          sara.shackleton@enron.com   \n",
       "18159   rika.imai@enron.com, don.baughman@enron.com, s...   \n",
       "272586                              kenneth.lay@enron.com   \n",
       "395306  richard.sanders@enron.com, tmoore@llgm.com, dh...   \n",
       "\n",
       "                                                  Subject  \\\n",
       "93127   RE: Tenancy dispute - approval for engaging ex...   \n",
       "419407  FSA Synthetic CBO (Mezzanine USD 120m - USD 270m)   \n",
       "18159      Updated: Richard Heidorn - Traders News Energy   \n",
       "272586    Institute for Advanced Study in Musical Theatre   \n",
       "395306                            Tenaska IV Availability   \n",
       "\n",
       "                                                     Body  recipients_count  \n",
       "93127   Cc: alan.aronowitz@enron.com, angeline.poon@en...                 1  \n",
       "419407  Cc: mark.taylor@enron.com, jeff.kinneman@enron...                 1  \n",
       "18159   Discussion of the validity of the information ...                 3  \n",
       "272586  Cc: leo3@linbeck.com\\nBcc: leo3@linbeck.com\\nD...                 1  \n",
       "395306  hmmm.........\\n----- Forwarded by Dan Lyons/HO...                 3  "
      ]
     },
     "execution_count": 108,
     "metadata": {},
     "output_type": "execute_result"
    }
   ],
   "source": [
    "df_parsed.sample(5)"
   ]
  },
  {
   "cell_type": "code",
   "execution_count": 109,
   "metadata": {},
   "outputs": [
    {
     "data": {
      "text/plain": [
       "recipients_count\n",
       "1      66.444466\n",
       "3      17.021745\n",
       "2       8.960002\n",
       "0       7.233299\n",
       "4       0.321820\n",
       "5       0.009707\n",
       "15+     0.002240\n",
       "15      0.001307\n",
       "8       0.001120\n",
       "6       0.000933\n",
       "9       0.000747\n",
       "10      0.000747\n",
       "7       0.000747\n",
       "14      0.000373\n",
       "11      0.000373\n",
       "12      0.000187\n",
       "13      0.000187\n",
       "Name: proportion, dtype: float64"
      ]
     },
     "execution_count": 109,
     "metadata": {},
     "output_type": "execute_result"
    }
   ],
   "source": [
    "df_parsed['recipients_count'].apply(lambda x: '15+' if x > 15 else str(x)).value_counts(normalize = True)*100"
   ]
  },
  {
   "cell_type": "code",
   "execution_count": 110,
   "metadata": {},
   "outputs": [
    {
     "data": {
      "text/html": [
       "<div>\n",
       "<style scoped>\n",
       "    .dataframe tbody tr th:only-of-type {\n",
       "        vertical-align: middle;\n",
       "    }\n",
       "\n",
       "    .dataframe tbody tr th {\n",
       "        vertical-align: top;\n",
       "    }\n",
       "\n",
       "    .dataframe thead th {\n",
       "        text-align: right;\n",
       "    }\n",
       "</style>\n",
       "<table border=\"1\" class=\"dataframe\">\n",
       "  <thead>\n",
       "    <tr style=\"text-align: right;\">\n",
       "      <th></th>\n",
       "      <th>text</th>\n",
       "      <th>email_type</th>\n",
       "      <th>Date</th>\n",
       "      <th>From</th>\n",
       "      <th>To</th>\n",
       "      <th>Subject</th>\n",
       "      <th>Body</th>\n",
       "      <th>recipients_count</th>\n",
       "    </tr>\n",
       "  </thead>\n",
       "  <tbody>\n",
       "    <tr>\n",
       "      <th>527493</th>\n",
       "      <td>Subject: Important Announcement Regarding Docu...</td>\n",
       "      <td>sent</td>\n",
       "      <td></td>\n",
       "      <td></td>\n",
       "      <td></td>\n",
       "      <td>Important Announcement Regarding Document Pres...</td>\n",
       "      <td>On Wednesday, October 31, I sent an email to a...</td>\n",
       "      <td>0</td>\n",
       "    </tr>\n",
       "    <tr>\n",
       "      <th>12954</th>\n",
       "      <td>Date: Sun, 12 Nov 2000 19:08:00 -0800 (PST)\\nF...</td>\n",
       "      <td>sent</td>\n",
       "      <td>Sun, 12 Nov 2000 19:08:00 -0800 (PST)</td>\n",
       "      <td>noreply@ccomad3.uu.commissioner.com</td>\n",
       "      <td></td>\n",
       "      <td>Commissioner.COM E-Reports for Y2KG 11/13/00</td>\n",
       "      <td>[IMAGE]\\nShop MVP.SportsLine.com</td>\n",
       "      <td>0</td>\n",
       "    </tr>\n",
       "  </tbody>\n",
       "</table>\n",
       "</div>"
      ],
      "text/plain": [
       "                                                     text email_type  \\\n",
       "527493  Subject: Important Announcement Regarding Docu...       sent   \n",
       "12954   Date: Sun, 12 Nov 2000 19:08:00 -0800 (PST)\\nF...       sent   \n",
       "\n",
       "                                         Date  \\\n",
       "527493                                          \n",
       "12954   Sun, 12 Nov 2000 19:08:00 -0800 (PST)   \n",
       "\n",
       "                                       From To  \\\n",
       "527493                                           \n",
       "12954   noreply@ccomad3.uu.commissioner.com      \n",
       "\n",
       "                                                  Subject  \\\n",
       "527493  Important Announcement Regarding Document Pres...   \n",
       "12954        Commissioner.COM E-Reports for Y2KG 11/13/00   \n",
       "\n",
       "                                                     Body  recipients_count  \n",
       "527493  On Wednesday, October 31, I sent an email to a...                 0  \n",
       "12954                    [IMAGE]\\nShop MVP.SportsLine.com                 0  "
      ]
     },
     "execution_count": 110,
     "metadata": {},
     "output_type": "execute_result"
    }
   ],
   "source": [
    "df_parsed[df_parsed[\"recipients_count\"] == 0].sample(2)"
   ]
  },
  {
   "cell_type": "code",
   "execution_count": 111,
   "metadata": {},
   "outputs": [
    {
     "data": {
      "text/plain": [
       "(535703, 8)"
      ]
     },
     "execution_count": 111,
     "metadata": {},
     "output_type": "execute_result"
    }
   ],
   "source": [
    "df_parsed.shape"
   ]
  },
  {
   "cell_type": "code",
   "execution_count": 112,
   "metadata": {},
   "outputs": [],
   "source": [
    "df_parsed = df_parsed[df_parsed[\"recipients_count\"] != 0]"
   ]
  },
  {
   "cell_type": "code",
   "execution_count": 113,
   "metadata": {},
   "outputs": [
    {
     "data": {
      "text/plain": [
       "(496954, 8)"
      ]
     },
     "execution_count": 113,
     "metadata": {},
     "output_type": "execute_result"
    }
   ],
   "source": [
    "df_parsed.shape"
   ]
  },
  {
   "cell_type": "markdown",
   "metadata": {},
   "source": [
    "## Word Counts (Approx)"
   ]
  },
  {
   "cell_type": "code",
   "execution_count": 114,
   "metadata": {},
   "outputs": [],
   "source": [
    "df_parsed.loc[:, \"word_count\"] = df_parsed[\"Body\"].apply(lambda x : len(x.split()))"
   ]
  },
  {
   "cell_type": "code",
   "execution_count": 115,
   "metadata": {},
   "outputs": [
    {
     "data": {
      "text/html": [
       "<div>\n",
       "<style scoped>\n",
       "    .dataframe tbody tr th:only-of-type {\n",
       "        vertical-align: middle;\n",
       "    }\n",
       "\n",
       "    .dataframe tbody tr th {\n",
       "        vertical-align: top;\n",
       "    }\n",
       "\n",
       "    .dataframe thead th {\n",
       "        text-align: right;\n",
       "    }\n",
       "</style>\n",
       "<table border=\"1\" class=\"dataframe\">\n",
       "  <thead>\n",
       "    <tr style=\"text-align: right;\">\n",
       "      <th></th>\n",
       "      <th>text</th>\n",
       "      <th>email_type</th>\n",
       "      <th>Date</th>\n",
       "      <th>From</th>\n",
       "      <th>To</th>\n",
       "      <th>Subject</th>\n",
       "      <th>Body</th>\n",
       "      <th>recipients_count</th>\n",
       "      <th>word_count</th>\n",
       "    </tr>\n",
       "  </thead>\n",
       "  <tbody>\n",
       "    <tr>\n",
       "      <th>468464</th>\n",
       "      <td>Date: Tue, 27 Feb 2001 12:52:00 -0800 (PST)\\nF...</td>\n",
       "      <td>sent</td>\n",
       "      <td>Tue, 27 Feb 2001 12:52:00 -0800 (PST)</td>\n",
       "      <td>orderwatch@mailstorm.ols.us.dell.com</td>\n",
       "      <td>kate.symes@enron.com</td>\n",
       "      <td>Order Watch Confirmation</td>\n",
       "      <td>***************************************\\n* Ple...</td>\n",
       "      <td>1</td>\n",
       "      <td>200</td>\n",
       "    </tr>\n",
       "    <tr>\n",
       "      <th>180487</th>\n",
       "      <td>Date: Wed, 2 May 2001 01:56:00 -0700 (PDT)\\nFr...</td>\n",
       "      <td>sent</td>\n",
       "      <td>Wed, 2 May 2001 01:56:00 -0700 (PDT)</td>\n",
       "      <td>tana.jones@enron.com</td>\n",
       "      <td>harry.collins@enron.com</td>\n",
       "      <td>Click Paper Approvals, 05-01-01</td>\n",
       "      <td>----- Forwarded by Tana Jones/HOU/ECT on 05/02...</td>\n",
       "      <td>1</td>\n",
       "      <td>64</td>\n",
       "    </tr>\n",
       "    <tr>\n",
       "      <th>314712</th>\n",
       "      <td>Date: Thu, 31 May 2001 04:08:00 -0700 (PDT)\\nF...</td>\n",
       "      <td>sent</td>\n",
       "      <td>Thu, 31 May 2001 04:08:00 -0700 (PDT)</td>\n",
       "      <td>reagan.rorschach@enron.com</td>\n",
       "      <td>kay.mann@enron.com, david.fairley@enron.com</td>\n",
       "      <td>RE: MDEA Agreement Scheduling</td>\n",
       "      <td>Please fill in the blank:\\n=01&amp;First Contingen...</td>\n",
       "      <td>2</td>\n",
       "      <td>536</td>\n",
       "    </tr>\n",
       "    <tr>\n",
       "      <th>426630</th>\n",
       "      <td>Date: Thu, 9 Mar 2000 14:35:00 -0800 (PST)\\nFr...</td>\n",
       "      <td>sent</td>\n",
       "      <td>Thu, 9 Mar 2000 14:35:00 -0800 (PST)</td>\n",
       "      <td>sara.shackleton@enron.com</td>\n",
       "      <td>john.suttle@enron.com</td>\n",
       "      <td>Vintage Petroleum</td>\n",
       "      <td>I received comments from Vintage (remember, no...</td>\n",
       "      <td>1</td>\n",
       "      <td>34</td>\n",
       "    </tr>\n",
       "    <tr>\n",
       "      <th>453931</th>\n",
       "      <td>Date: Mon, 22 Oct 2001 22:57:58 -0700 (PDT)\\nF...</td>\n",
       "      <td>sent</td>\n",
       "      <td>Mon, 22 Oct 2001 22:57:58 -0700 (PDT)</td>\n",
       "      <td>style@response.etracks.com</td>\n",
       "      <td>jsteffe@enron.com</td>\n",
       "      <td>The Best of Spring 2002 Runways</td>\n",
       "      <td>[IMAGE] \\t\\n[IMAGE] [IMAGE][IMAGE][IMAGE]\\t\\n[...</td>\n",
       "      <td>1</td>\n",
       "      <td>29</td>\n",
       "    </tr>\n",
       "  </tbody>\n",
       "</table>\n",
       "</div>"
      ],
      "text/plain": [
       "                                                     text email_type  \\\n",
       "468464  Date: Tue, 27 Feb 2001 12:52:00 -0800 (PST)\\nF...       sent   \n",
       "180487  Date: Wed, 2 May 2001 01:56:00 -0700 (PDT)\\nFr...       sent   \n",
       "314712  Date: Thu, 31 May 2001 04:08:00 -0700 (PDT)\\nF...       sent   \n",
       "426630  Date: Thu, 9 Mar 2000 14:35:00 -0800 (PST)\\nFr...       sent   \n",
       "453931  Date: Mon, 22 Oct 2001 22:57:58 -0700 (PDT)\\nF...       sent   \n",
       "\n",
       "                                         Date  \\\n",
       "468464  Tue, 27 Feb 2001 12:52:00 -0800 (PST)   \n",
       "180487   Wed, 2 May 2001 01:56:00 -0700 (PDT)   \n",
       "314712  Thu, 31 May 2001 04:08:00 -0700 (PDT)   \n",
       "426630   Thu, 9 Mar 2000 14:35:00 -0800 (PST)   \n",
       "453931  Mon, 22 Oct 2001 22:57:58 -0700 (PDT)   \n",
       "\n",
       "                                        From  \\\n",
       "468464  orderwatch@mailstorm.ols.us.dell.com   \n",
       "180487                  tana.jones@enron.com   \n",
       "314712            reagan.rorschach@enron.com   \n",
       "426630             sara.shackleton@enron.com   \n",
       "453931            style@response.etracks.com   \n",
       "\n",
       "                                                 To  \\\n",
       "468464                         kate.symes@enron.com   \n",
       "180487                      harry.collins@enron.com   \n",
       "314712  kay.mann@enron.com, david.fairley@enron.com   \n",
       "426630                        john.suttle@enron.com   \n",
       "453931                            jsteffe@enron.com   \n",
       "\n",
       "                                Subject  \\\n",
       "468464         Order Watch Confirmation   \n",
       "180487  Click Paper Approvals, 05-01-01   \n",
       "314712    RE: MDEA Agreement Scheduling   \n",
       "426630                Vintage Petroleum   \n",
       "453931  The Best of Spring 2002 Runways   \n",
       "\n",
       "                                                     Body  recipients_count  \\\n",
       "468464  ***************************************\\n* Ple...                 1   \n",
       "180487  ----- Forwarded by Tana Jones/HOU/ECT on 05/02...                 1   \n",
       "314712  Please fill in the blank:\\n=01&First Contingen...                 2   \n",
       "426630  I received comments from Vintage (remember, no...                 1   \n",
       "453931  [IMAGE] \\t\\n[IMAGE] [IMAGE][IMAGE][IMAGE]\\t\\n[...                 1   \n",
       "\n",
       "        word_count  \n",
       "468464         200  \n",
       "180487          64  \n",
       "314712         536  \n",
       "426630          34  \n",
       "453931          29  "
      ]
     },
     "execution_count": 115,
     "metadata": {},
     "output_type": "execute_result"
    }
   ],
   "source": [
    "df_parsed.sample(5)"
   ]
  },
  {
   "cell_type": "code",
   "execution_count": 116,
   "metadata": {},
   "outputs": [
    {
     "data": {
      "text/plain": [
       "(496954, 9)"
      ]
     },
     "execution_count": 116,
     "metadata": {},
     "output_type": "execute_result"
    }
   ],
   "source": [
    "df_parsed.shape"
   ]
  },
  {
   "cell_type": "code",
   "execution_count": 117,
   "metadata": {},
   "outputs": [],
   "source": [
    "import matplotlib.pyplot as plt"
   ]
  },
  {
   "cell_type": "code",
   "execution_count": 118,
   "metadata": {},
   "outputs": [
    {
     "data": {
      "image/png": "[encoded data removed]",
      "text/plain": [
       "<Figure size 600x400 with 1 Axes>"
      ]
     },
     "metadata": {},
     "output_type": "display_data"
    }
   ],
   "source": [
    "plt.figure(figsize=(6, 4))\n",
    "plt.hist(df_parsed['word_count'], bins=20, edgecolor='black')\n",
    "plt.title('Histogram of Text Lengths')\n",
    "plt.xlabel('Text Length')\n",
    "plt.ylabel('Frequency')\n",
    "plt.show()"
   ]
  },
  {
   "cell_type": "code",
   "execution_count": 119,
   "metadata": {},
   "outputs": [
    {
     "data": {
      "text/plain": [
       "(492269, 9)"
      ]
     },
     "execution_count": 119,
     "metadata": {},
     "output_type": "execute_result"
    }
   ],
   "source": [
    "df_parsed[df_parsed['word_count'] <= 2000].shape"
   ]
  },
  {
   "cell_type": "code",
   "execution_count": 120,
   "metadata": {},
   "outputs": [],
   "source": [
    "df_parsed = df_parsed[df_parsed['word_count'] <= 2000]"
   ]
  },
  {
   "cell_type": "code",
   "execution_count": 121,
   "metadata": {},
   "outputs": [
    {
     "data": {
      "image/png": "[encoded data removed]",
      "text/plain": [
       "<Figure size 600x400 with 1 Axes>"
      ]
     },
     "metadata": {},
     "output_type": "display_data"
    }
   ],
   "source": [
    "plt.figure(figsize=(6, 4))\n",
    "plt.hist(df_parsed['word_count'], bins=20, edgecolor='black')\n",
    "plt.title('Histogram of Text Lengths')\n",
    "plt.xlabel('Text Length')\n",
    "plt.ylabel('Frequency')\n",
    "plt.show()"
   ]
  },
  {
   "cell_type": "markdown",
   "metadata": {},
   "source": [
    "## Sample a dataset based on different aspects"
   ]
  },
  {
   "cell_type": "code",
   "execution_count": 122,
   "metadata": {},
   "outputs": [
    {
     "data": {
      "text/html": [
       "<div>\n",
       "<style scoped>\n",
       "    .dataframe tbody tr th:only-of-type {\n",
       "        vertical-align: middle;\n",
       "    }\n",
       "\n",
       "    .dataframe tbody tr th {\n",
       "        vertical-align: top;\n",
       "    }\n",
       "\n",
       "    .dataframe thead th {\n",
       "        text-align: right;\n",
       "    }\n",
       "</style>\n",
       "<table border=\"1\" class=\"dataframe\">\n",
       "  <thead>\n",
       "    <tr style=\"text-align: right;\">\n",
       "      <th></th>\n",
       "      <th>text</th>\n",
       "      <th>email_type</th>\n",
       "      <th>Date</th>\n",
       "      <th>From</th>\n",
       "      <th>To</th>\n",
       "      <th>Subject</th>\n",
       "      <th>Body</th>\n",
       "      <th>recipients_count</th>\n",
       "      <th>word_count</th>\n",
       "    </tr>\n",
       "  </thead>\n",
       "  <tbody>\n",
       "    <tr>\n",
       "      <th>438319</th>\n",
       "      <td>Date: Tue, 15 May 2001 02:10:00 -0700 (PDT)\\nF...</td>\n",
       "      <td>sent</td>\n",
       "      <td>Tue, 15 May 2001 02:10:00 -0700 (PDT)</td>\n",
       "      <td>charles.yeung@enron.com</td>\n",
       "      <td>kevin.presto@enron.com, lloyd.will@enron.com</td>\n",
       "      <td>NERC Releases its 2001 Summer Reliability Asse...</td>\n",
       "      <td>Cc: james.steffes@enron.com, richard.shapiro@e...</td>\n",
       "      <td>2</td>\n",
       "      <td>894</td>\n",
       "    </tr>\n",
       "    <tr>\n",
       "      <th>376230</th>\n",
       "      <td>Date: Wed, 29 Nov 2000 01:28:00 -0800 (PST)\\nF...</td>\n",
       "      <td>sent</td>\n",
       "      <td>Wed, 29 Nov 2000 01:28:00 -0800 (PST)</td>\n",
       "      <td>fool@motleyfool.com</td>\n",
       "      <td>benjamin.rogers@enron.com</td>\n",
       "      <td>Breakfast With The Fool: ADC's Solid Q4</td>\n",
       "      <td>______________________________________________...</td>\n",
       "      <td>1</td>\n",
       "      <td>978</td>\n",
       "    </tr>\n",
       "    <tr>\n",
       "      <th>433520</th>\n",
       "      <td>Date: Wed, 3 Jan 2001 06:13:00 -0800 (PST)\\nFr...</td>\n",
       "      <td>sent</td>\n",
       "      <td>Wed, 3 Jan 2001 06:13:00 -0800 (PST)</td>\n",
       "      <td>jeffrey.shankman@enron.com</td>\n",
       "      <td>gary.hickerson@enron.com</td>\n",
       "      <td></td>\n",
       "      <td>What do you think of this:\\nAs mentioned durin...</td>\n",
       "      <td>1</td>\n",
       "      <td>113</td>\n",
       "    </tr>\n",
       "    <tr>\n",
       "      <th>198278</th>\n",
       "      <td>Date: Mon, 14 May 2001 07:18:00 -0700 (PDT)\\nF...</td>\n",
       "      <td>sent</td>\n",
       "      <td>Mon, 14 May 2001 07:18:00 -0700 (PDT)</td>\n",
       "      <td>tana.jones@enron.com</td>\n",
       "      <td>alan.aronowitz@enron.com, jeffrey.hodge@enron....</td>\n",
       "      <td>EOL Approvals: 05-11-01  (Re-send)</td>\n",
       "      <td>----- Forwarded by Tana Jones/HOU/ECT on 05/14...</td>\n",
       "      <td>2</td>\n",
       "      <td>113</td>\n",
       "    </tr>\n",
       "    <tr>\n",
       "      <th>338961</th>\n",
       "      <td>Date: Sat, 26 Jan 2002 03:54:57 -0800 (PST)\\nF...</td>\n",
       "      <td>sent</td>\n",
       "      <td>Sat, 26 Jan 2002 03:54:57 -0800 (PST)</td>\n",
       "      <td>edirectnetwork@optin-offers.net</td>\n",
       "      <td>pmims@enron.com</td>\n",
       "      <td>Reverse Aging While Burning Fat! 100% Guaranteed!</td>\n",
       "      <td>-____OFFERMAIL_BOUNDARY____\\n*****************...</td>\n",
       "      <td>1</td>\n",
       "      <td>774</td>\n",
       "    </tr>\n",
       "  </tbody>\n",
       "</table>\n",
       "</div>"
      ],
      "text/plain": [
       "                                                     text email_type  \\\n",
       "438319  Date: Tue, 15 May 2001 02:10:00 -0700 (PDT)\\nF...       sent   \n",
       "376230  Date: Wed, 29 Nov 2000 01:28:00 -0800 (PST)\\nF...       sent   \n",
       "433520  Date: Wed, 3 Jan 2001 06:13:00 -0800 (PST)\\nFr...       sent   \n",
       "198278  Date: Mon, 14 May 2001 07:18:00 -0700 (PDT)\\nF...       sent   \n",
       "338961  Date: Sat, 26 Jan 2002 03:54:57 -0800 (PST)\\nF...       sent   \n",
       "\n",
       "                                         Date  \\\n",
       "438319  Tue, 15 May 2001 02:10:00 -0700 (PDT)   \n",
       "376230  Wed, 29 Nov 2000 01:28:00 -0800 (PST)   \n",
       "433520   Wed, 3 Jan 2001 06:13:00 -0800 (PST)   \n",
       "198278  Mon, 14 May 2001 07:18:00 -0700 (PDT)   \n",
       "338961  Sat, 26 Jan 2002 03:54:57 -0800 (PST)   \n",
       "\n",
       "                                   From  \\\n",
       "438319          charles.yeung@enron.com   \n",
       "376230              fool@motleyfool.com   \n",
       "433520       jeffrey.shankman@enron.com   \n",
       "198278             tana.jones@enron.com   \n",
       "338961  edirectnetwork@optin-offers.net   \n",
       "\n",
       "                                                       To  \\\n",
       "438319       kevin.presto@enron.com, lloyd.will@enron.com   \n",
       "376230                          benjamin.rogers@enron.com   \n",
       "433520                           gary.hickerson@enron.com   \n",
       "198278  alan.aronowitz@enron.com, jeffrey.hodge@enron....   \n",
       "338961                                    pmims@enron.com   \n",
       "\n",
       "                                                  Subject  \\\n",
       "438319  NERC Releases its 2001 Summer Reliability Asse...   \n",
       "376230            Breakfast With The Fool: ADC's Solid Q4   \n",
       "433520                                                      \n",
       "198278                 EOL Approvals: 05-11-01  (Re-send)   \n",
       "338961  Reverse Aging While Burning Fat! 100% Guaranteed!   \n",
       "\n",
       "                                                     Body  recipients_count  \\\n",
       "438319  Cc: james.steffes@enron.com, richard.shapiro@e...                 2   \n",
       "376230  ______________________________________________...                 1   \n",
       "433520  What do you think of this:\\nAs mentioned durin...                 1   \n",
       "198278  ----- Forwarded by Tana Jones/HOU/ECT on 05/14...                 2   \n",
       "338961  -____OFFERMAIL_BOUNDARY____\\n*****************...                 1   \n",
       "\n",
       "        word_count  \n",
       "438319         894  \n",
       "376230         978  \n",
       "433520         113  \n",
       "198278         113  \n",
       "338961         774  "
      ]
     },
     "execution_count": 122,
     "metadata": {},
     "output_type": "execute_result"
    }
   ],
   "source": [
    "df_parsed.sample(5)"
   ]
  },
  {
   "cell_type": "code",
   "execution_count": 123,
   "metadata": {},
   "outputs": [
    {
     "data": {
      "text/plain": [
       "text                object\n",
       "email_type          object\n",
       "Date                object\n",
       "From                object\n",
       "To                  object\n",
       "Subject             object\n",
       "Body                object\n",
       "recipients_count     int64\n",
       "word_count           int64\n",
       "dtype: object"
      ]
     },
     "execution_count": 123,
     "metadata": {},
     "output_type": "execute_result"
    }
   ],
   "source": [
    "df_parsed.dtypes"
   ]
  },
  {
   "cell_type": "code",
   "execution_count": 126,
   "metadata": {},
   "outputs": [],
   "source": [
    "# Create bins for word_count\n",
    "bins = list(range(0, 2050, 50))  # bins from 0 to 2000 with step 50\n",
    "labels = range(len(bins)-1)  # label each bin from 0 to len(bins)-2\n",
    "\n",
    "# Assign bins to each row based on word_count\n",
    "df_parsed['bin'] = pd.cut(df_parsed['word_count'], bins=bins, labels=labels, include_lowest=True)\n",
    "\n",
    "# Sample 100 emails from each bin\n",
    "sampled_dfs = []\n",
    "for label in labels:\n",
    "    sampled_df = df_parsed[df_parsed['bin'] == label].sample(n=200, random_state=42)  # adjust random_state for reproducibility\n",
    "    sampled_dfs.append(sampled_df)\n",
    "\n",
    "# Concatenate sampled dataframes into one\n",
    "sampled_df_final = pd.concat(sampled_dfs, ignore_index=True)\n",
    "\n",
    "# Drop the 'bin' column if you no longer need it\n",
    "sampled_df_final = sampled_df_final.drop(columns=['bin'])\n",
    "\n",
    "# Reset index if needed\n",
    "sampled_df_final = sampled_df_final.reset_index(drop=True)\n"
   ]
  },
  {
   "cell_type": "code",
   "execution_count": 127,
   "metadata": {},
   "outputs": [
    {
     "data": {
      "text/plain": [
       "(8000, 9)"
      ]
     },
     "execution_count": 127,
     "metadata": {},
     "output_type": "execute_result"
    }
   ],
   "source": [
    "sampled_df_final.shape"
   ]
  },
  {
   "cell_type": "code",
   "execution_count": 128,
   "metadata": {},
   "outputs": [
    {
     "data": {
      "text/html": [
       "<div>\n",
       "<style scoped>\n",
       "    .dataframe tbody tr th:only-of-type {\n",
       "        vertical-align: middle;\n",
       "    }\n",
       "\n",
       "    .dataframe tbody tr th {\n",
       "        vertical-align: top;\n",
       "    }\n",
       "\n",
       "    .dataframe thead th {\n",
       "        text-align: right;\n",
       "    }\n",
       "</style>\n",
       "<table border=\"1\" class=\"dataframe\">\n",
       "  <thead>\n",
       "    <tr style=\"text-align: right;\">\n",
       "      <th></th>\n",
       "      <th>text</th>\n",
       "      <th>email_type</th>\n",
       "      <th>Date</th>\n",
       "      <th>From</th>\n",
       "      <th>To</th>\n",
       "      <th>Subject</th>\n",
       "      <th>Body</th>\n",
       "      <th>recipients_count</th>\n",
       "      <th>word_count</th>\n",
       "    </tr>\n",
       "  </thead>\n",
       "  <tbody>\n",
       "    <tr>\n",
       "      <th>4333</th>\n",
       "      <td>Date: Mon, 8 May 2000 03:32:00 -0700 (PDT)\\nFr...</td>\n",
       "      <td>sent</td>\n",
       "      <td>Mon, 8 May 2000 03:32:00 -0700 (PDT)</td>\n",
       "      <td>mark.taylor@enron.com</td>\n",
       "      <td>tana.jones@enron.com</td>\n",
       "      <td>RE: EnronOnline in Japan</td>\n",
       "      <td>Here is the Japanese repsonse which also conta...</td>\n",
       "      <td>1</td>\n",
       "      <td>1088</td>\n",
       "    </tr>\n",
       "    <tr>\n",
       "      <th>1384</th>\n",
       "      <td>Date: Wed, 20 Dec 2000 01:49:00 -0800 (PST)\\nF...</td>\n",
       "      <td>response</td>\n",
       "      <td>Wed, 20 Dec 2000 01:49:00 -0800 (PST)</td>\n",
       "      <td>rob.gay@enron.com</td>\n",
       "      <td>peter.weidler@enron.com</td>\n",
       "      <td>Re: Cuiaba Project</td>\n",
       "      <td>Those dates are fine for me.  Copies of the do...</td>\n",
       "      <td>1</td>\n",
       "      <td>305</td>\n",
       "    </tr>\n",
       "    <tr>\n",
       "      <th>4014</th>\n",
       "      <td>Date: Wed, 20 Feb 2002 14:56:37 -0800 (PST)\\nF...</td>\n",
       "      <td>sent</td>\n",
       "      <td>Wed, 20 Feb 2002 14:56:37 -0800 (PST)</td>\n",
       "      <td>aairmail@info.aa.com</td>\n",
       "      <td>sscott5@enron.com</td>\n",
       "      <td>American Airlines AAirmail</td>\n",
       "      <td>Dear Susan Scott, \\nWelcome to the latest edit...</td>\n",
       "      <td>1</td>\n",
       "      <td>1006</td>\n",
       "    </tr>\n",
       "    <tr>\n",
       "      <th>2991</th>\n",
       "      <td>Date: Tue, 28 Nov 2000 10:18:00 -0800 (PST)\\nF...</td>\n",
       "      <td>response</td>\n",
       "      <td>Tue, 28 Nov 2000 10:18:00 -0800 (PST)</td>\n",
       "      <td>sally.beck@enron.com</td>\n",
       "      <td>mike.jordan@enron.com</td>\n",
       "      <td>Re: Cross calibration for Operations people gl...</td>\n",
       "      <td>I think that it is a great idea to compare rec...</td>\n",
       "      <td>1</td>\n",
       "      <td>722</td>\n",
       "    </tr>\n",
       "    <tr>\n",
       "      <th>1937</th>\n",
       "      <td>Date: Thu, 24 Aug 2000 10:25:00 -0700 (PDT)\\nF...</td>\n",
       "      <td>sent</td>\n",
       "      <td>Thu, 24 Aug 2000 10:25:00 -0700 (PDT)</td>\n",
       "      <td>kevin.hyatt@enron.com</td>\n",
       "      <td>bullets@enron.com</td>\n",
       "      <td>Bullets 8/25</td>\n",
       "      <td>El Paso Field Services - EPFS has agreed to go...</td>\n",
       "      <td>1</td>\n",
       "      <td>465</td>\n",
       "    </tr>\n",
       "  </tbody>\n",
       "</table>\n",
       "</div>"
      ],
      "text/plain": [
       "                                                   text email_type  \\\n",
       "4333  Date: Mon, 8 May 2000 03:32:00 -0700 (PDT)\\nFr...       sent   \n",
       "1384  Date: Wed, 20 Dec 2000 01:49:00 -0800 (PST)\\nF...   response   \n",
       "4014  Date: Wed, 20 Feb 2002 14:56:37 -0800 (PST)\\nF...       sent   \n",
       "2991  Date: Tue, 28 Nov 2000 10:18:00 -0800 (PST)\\nF...   response   \n",
       "1937  Date: Thu, 24 Aug 2000 10:25:00 -0700 (PDT)\\nF...       sent   \n",
       "\n",
       "                                       Date                   From  \\\n",
       "4333   Mon, 8 May 2000 03:32:00 -0700 (PDT)  mark.taylor@enron.com   \n",
       "1384  Wed, 20 Dec 2000 01:49:00 -0800 (PST)      rob.gay@enron.com   \n",
       "4014  Wed, 20 Feb 2002 14:56:37 -0800 (PST)   aairmail@info.aa.com   \n",
       "2991  Tue, 28 Nov 2000 10:18:00 -0800 (PST)   sally.beck@enron.com   \n",
       "1937  Thu, 24 Aug 2000 10:25:00 -0700 (PDT)  kevin.hyatt@enron.com   \n",
       "\n",
       "                           To  \\\n",
       "4333     tana.jones@enron.com   \n",
       "1384  peter.weidler@enron.com   \n",
       "4014        sscott5@enron.com   \n",
       "2991    mike.jordan@enron.com   \n",
       "1937        bullets@enron.com   \n",
       "\n",
       "                                                Subject  \\\n",
       "4333                           RE: EnronOnline in Japan   \n",
       "1384                                 Re: Cuiaba Project   \n",
       "4014                         American Airlines AAirmail   \n",
       "2991  Re: Cross calibration for Operations people gl...   \n",
       "1937                                       Bullets 8/25   \n",
       "\n",
       "                                                   Body  recipients_count  \\\n",
       "4333  Here is the Japanese repsonse which also conta...                 1   \n",
       "1384  Those dates are fine for me.  Copies of the do...                 1   \n",
       "4014  Dear Susan Scott, \\nWelcome to the latest edit...                 1   \n",
       "2991  I think that it is a great idea to compare rec...                 1   \n",
       "1937  El Paso Field Services - EPFS has agreed to go...                 1   \n",
       "\n",
       "      word_count  \n",
       "4333        1088  \n",
       "1384         305  \n",
       "4014        1006  \n",
       "2991         722  \n",
       "1937         465  "
      ]
     },
     "execution_count": 128,
     "metadata": {},
     "output_type": "execute_result"
    }
   ],
   "source": [
    "sampled_df_final.sample(5)"
   ]
  },
  {
   "cell_type": "code",
   "execution_count": 129,
   "metadata": {},
   "outputs": [
    {
     "data": {
      "image/png": "[encoded data removed]",
      "text/plain": [
       "<Figure size 600x400 with 1 Axes>"
      ]
     },
     "metadata": {},
     "output_type": "display_data"
    }
   ],
   "source": [
    "plt.figure(figsize=(6, 4))\n",
    "plt.hist(sampled_df_final['word_count'], bins=20, edgecolor='black')\n",
    "plt.title('Histogram of Text Lengths')\n",
    "plt.xlabel('Text Length')\n",
    "plt.ylabel('Frequency')\n",
    "plt.show()"
   ]
  },
  {
   "cell_type": "code",
   "execution_count": 130,
   "metadata": {},
   "outputs": [
    {
     "data": {
      "text/plain": [
       "email_type\n",
       "sent        6350\n",
       "response    1650\n",
       "Name: count, dtype: int64"
      ]
     },
     "execution_count": 130,
     "metadata": {},
     "output_type": "execute_result"
    }
   ],
   "source": [
    "sampled_df_final[\"email_type\"].value_counts()"
   ]
  },
  {
   "cell_type": "code",
   "execution_count": 131,
   "metadata": {},
   "outputs": [],
   "source": [
    "resp = sampled_df_final[sampled_df_final[\"email_type\"] == \"response\"]\n",
    "sent = sampled_df_final[sampled_df_final[\"email_type\"] == \"sent\"].sample(4000 - len(resp), random_state=42)\n",
    "sampled_df_4k = pd.concat([resp, sent], ignore_index=True)\n"
   ]
  },
  {
   "cell_type": "code",
   "execution_count": 132,
   "metadata": {},
   "outputs": [
    {
     "data": {
      "text/plain": [
       "(4000, 9)"
      ]
     },
     "execution_count": 132,
     "metadata": {},
     "output_type": "execute_result"
    }
   ],
   "source": [
    "sampled_df_4k.shape"
   ]
  },
  {
   "cell_type": "code",
   "execution_count": 134,
   "metadata": {},
   "outputs": [
    {
     "data": {
      "text/plain": [
       "email_type\n",
       "sent        2350\n",
       "response    1650\n",
       "Name: count, dtype: int64"
      ]
     },
     "execution_count": 134,
     "metadata": {},
     "output_type": "execute_result"
    }
   ],
   "source": [
    "sampled_df_4k[\"email_type\"].value_counts()"
   ]
  },
  {
   "cell_type": "code",
   "execution_count": 135,
   "metadata": {},
   "outputs": [
    {
     "data": {
      "image/png": "[encoded data removed]",
      "text/plain": [
       "<Figure size 600x400 with 1 Axes>"
      ]
     },
     "metadata": {},
     "output_type": "display_data"
    }
   ],
   "source": [
    "plt.figure(figsize=(6, 4))\n",
    "plt.hist(sampled_df_4k['word_count'], bins=20, edgecolor='black')\n",
    "plt.title('Histogram of Text Lengths')\n",
    "plt.xlabel('Text Length')\n",
    "plt.ylabel('Frequency')\n",
    "plt.show()"
   ]
  },
  {
   "cell_type": "code",
   "execution_count": 138,
   "metadata": {},
   "outputs": [
    {
     "data": {
      "text/plain": [
       "1.6500000000000001"
      ]
     },
     "execution_count": 138,
     "metadata": {},
     "output_type": "execute_result"
    }
   ],
   "source": [
    "(sampled_df_4k[sampled_df_4k['Subject'] == \"\"].shape[0]/ len(sampled_df_4k))*100"
   ]
  },
  {
   "cell_type": "markdown",
   "metadata": {},
   "source": [
    "#### Now we have a dataset of size 4000 which somewhat has similar representation of the original 500k dataset in terms of word count, subject. \n",
    "#### Also, just to understand what goes on in sent vs response messages, i have tried to increase the % of response emails in our sampled dataset compared to original one."
   ]
  },
  {
   "cell_type": "code",
   "execution_count": 143,
   "metadata": {},
   "outputs": [
    {
     "data": {
      "text/plain": [
       "Index(['text', 'email_type', 'Date', 'From', 'To', 'Subject', 'Body',\n",
       "       'recipients_count', 'word_count'],\n",
       "      dtype='object')"
      ]
     },
     "execution_count": 143,
     "metadata": {},
     "output_type": "execute_result"
    }
   ],
   "source": [
    "sampled_df_4k.columns"
   ]
  },
  {
   "cell_type": "code",
   "execution_count": 142,
   "metadata": {},
   "outputs": [
    {
     "data": {
      "text/html": [
       "<div>\n",
       "<style scoped>\n",
       "    .dataframe tbody tr th:only-of-type {\n",
       "        vertical-align: middle;\n",
       "    }\n",
       "\n",
       "    .dataframe tbody tr th {\n",
       "        vertical-align: top;\n",
       "    }\n",
       "\n",
       "    .dataframe thead th {\n",
       "        text-align: right;\n",
       "    }\n",
       "</style>\n",
       "<table border=\"1\" class=\"dataframe\">\n",
       "  <thead>\n",
       "    <tr style=\"text-align: right;\">\n",
       "      <th></th>\n",
       "      <th>text</th>\n",
       "      <th>email_type</th>\n",
       "      <th>Date</th>\n",
       "      <th>From</th>\n",
       "      <th>To</th>\n",
       "      <th>Subject</th>\n",
       "      <th>Body</th>\n",
       "      <th>recipients_count</th>\n",
       "      <th>word_count</th>\n",
       "    </tr>\n",
       "  </thead>\n",
       "  <tbody>\n",
       "    <tr>\n",
       "      <th>0</th>\n",
       "      <td>Date: Fri, 12 Jan 2001 09:00:00 -0800 (PST)\\nF...</td>\n",
       "      <td>response</td>\n",
       "      <td>Fri, 12 Jan 2001 09:00:00 -0800 (PST)</td>\n",
       "      <td>errol.mclaughlin@enron.com</td>\n",
       "      <td>gregory.carraway@enron.com</td>\n",
       "      <td>Re: Gas Daily deals in dispute</td>\n",
       "      <td>Greg,\\nSherry Dawson took care of these deals ...</td>\n",
       "      <td>1</td>\n",
       "      <td>13</td>\n",
       "    </tr>\n",
       "    <tr>\n",
       "      <th>1</th>\n",
       "      <td>Date: Thu, 30 Sep 1999 03:20:00 -0700 (PDT)\\nF...</td>\n",
       "      <td>response</td>\n",
       "      <td>Thu, 30 Sep 1999 03:20:00 -0700 (PDT)</td>\n",
       "      <td>sara.shackleton@enron.com</td>\n",
       "      <td>taffy.milligan@enron.com</td>\n",
       "      <td>Re: SWAP Group - October and November Calendars</td>\n",
       "      <td>Taffy - my last name is spelled \"Shackleton\". ...</td>\n",
       "      <td>1</td>\n",
       "      <td>10</td>\n",
       "    </tr>\n",
       "    <tr>\n",
       "      <th>2</th>\n",
       "      <td>Date: Mon, 11 Dec 2000 01:31:00 -0800 (PST)\\nF...</td>\n",
       "      <td>response</td>\n",
       "      <td>Mon, 11 Dec 2000 01:31:00 -0800 (PST)</td>\n",
       "      <td>benjamin.rogers@enron.com</td>\n",
       "      <td>michaela.jim@worldnet.att.net</td>\n",
       "      <td>Re: pictures</td>\n",
       "      <td>Thanks for the pics.  Very cute!!!\\nBen</td>\n",
       "      <td>1</td>\n",
       "      <td>7</td>\n",
       "    </tr>\n",
       "    <tr>\n",
       "      <th>3</th>\n",
       "      <td>Date: Fri, 7 Jul 2000 06:56:00 -0700 (PDT)\\nFr...</td>\n",
       "      <td>response</td>\n",
       "      <td>Fri, 7 Jul 2000 06:56:00 -0700 (PDT)</td>\n",
       "      <td>phillip.allen@enron.com</td>\n",
       "      <td>gary.taylor@enron.com</td>\n",
       "      <td>Re: market intelligence</td>\n",
       "      <td>gary,\\n thanks for the info.</td>\n",
       "      <td>1</td>\n",
       "      <td>5</td>\n",
       "    </tr>\n",
       "    <tr>\n",
       "      <th>4</th>\n",
       "      <td>Date: Mon, 9 Apr 2001 11:12:00 -0700 (PDT)\\nFr...</td>\n",
       "      <td>response</td>\n",
       "      <td>Mon, 9 Apr 2001 11:12:00 -0700 (PDT)</td>\n",
       "      <td>barry.tycholiz@enron.com</td>\n",
       "      <td>judy.l.wood@ca.pwcglobal.com</td>\n",
       "      <td>Re: Organizer, etc</td>\n",
       "      <td>I have completed the organizer... I have also ...</td>\n",
       "      <td>1</td>\n",
       "      <td>27</td>\n",
       "    </tr>\n",
       "  </tbody>\n",
       "</table>\n",
       "</div>"
      ],
      "text/plain": [
       "                                                text email_type  \\\n",
       "0  Date: Fri, 12 Jan 2001 09:00:00 -0800 (PST)\\nF...   response   \n",
       "1  Date: Thu, 30 Sep 1999 03:20:00 -0700 (PDT)\\nF...   response   \n",
       "2  Date: Mon, 11 Dec 2000 01:31:00 -0800 (PST)\\nF...   response   \n",
       "3  Date: Fri, 7 Jul 2000 06:56:00 -0700 (PDT)\\nFr...   response   \n",
       "4  Date: Mon, 9 Apr 2001 11:12:00 -0700 (PDT)\\nFr...   response   \n",
       "\n",
       "                                    Date                        From  \\\n",
       "0  Fri, 12 Jan 2001 09:00:00 -0800 (PST)  errol.mclaughlin@enron.com   \n",
       "1  Thu, 30 Sep 1999 03:20:00 -0700 (PDT)   sara.shackleton@enron.com   \n",
       "2  Mon, 11 Dec 2000 01:31:00 -0800 (PST)   benjamin.rogers@enron.com   \n",
       "3   Fri, 7 Jul 2000 06:56:00 -0700 (PDT)     phillip.allen@enron.com   \n",
       "4   Mon, 9 Apr 2001 11:12:00 -0700 (PDT)    barry.tycholiz@enron.com   \n",
       "\n",
       "                              To  \\\n",
       "0     gregory.carraway@enron.com   \n",
       "1       taffy.milligan@enron.com   \n",
       "2  michaela.jim@worldnet.att.net   \n",
       "3          gary.taylor@enron.com   \n",
       "4   judy.l.wood@ca.pwcglobal.com   \n",
       "\n",
       "                                           Subject  \\\n",
       "0                   Re: Gas Daily deals in dispute   \n",
       "1  Re: SWAP Group - October and November Calendars   \n",
       "2                                     Re: pictures   \n",
       "3                          Re: market intelligence   \n",
       "4                               Re: Organizer, etc   \n",
       "\n",
       "                                                Body  recipients_count  \\\n",
       "0  Greg,\\nSherry Dawson took care of these deals ...                 1   \n",
       "1  Taffy - my last name is spelled \"Shackleton\". ...                 1   \n",
       "2            Thanks for the pics.  Very cute!!!\\nBen                 1   \n",
       "3                       gary,\\n thanks for the info.                 1   \n",
       "4  I have completed the organizer... I have also ...                 1   \n",
       "\n",
       "   word_count  \n",
       "0          13  \n",
       "1          10  \n",
       "2           7  \n",
       "3           5  \n",
       "4          27  "
      ]
     },
     "execution_count": 142,
     "metadata": {},
     "output_type": "execute_result"
    }
   ],
   "source": [
    "sampled_df_4k.head()"
   ]
  },
  {
   "cell_type": "code",
   "execution_count": 144,
   "metadata": {},
   "outputs": [],
   "source": [
    "data = sampled_df_4k.to_dict(orient='records')"
   ]
  },
  {
   "cell_type": "code",
   "execution_count": 145,
   "metadata": {},
   "outputs": [
    {
     "data": {
      "text/plain": [
       "{'text': 'Date: Fri, 12 Jan 2001 09:00:00 -0800 (PST)\\nFrom: errol.mclaughlin@enron.com\\nTo: gregory.carraway@enron.com\\nSubject: Re: Gas Daily deals in dispute\\nBody: \\nGreg,\\nSherry Dawson took care of these deals today.\\nThanks,\\nErrol McLaughlin, X5-8274',\n",
       " 'email_type': 'response',\n",
       " 'Date': 'Fri, 12 Jan 2001 09:00:00 -0800 (PST)',\n",
       " 'From': 'errol.mclaughlin@enron.com',\n",
       " 'To': 'gregory.carraway@enron.com',\n",
       " 'Subject': 'Re: Gas Daily deals in dispute',\n",
       " 'Body': 'Greg,\\nSherry Dawson took care of these deals today.\\nThanks,\\nErrol McLaughlin, X5-8274',\n",
       " 'recipients_count': 1,\n",
       " 'word_count': 13}"
      ]
     },
     "execution_count": 145,
     "metadata": {},
     "output_type": "execute_result"
    }
   ],
   "source": [
    "data[0]"
   ]
  },
  {
   "cell_type": "code",
   "execution_count": 146,
   "metadata": {},
   "outputs": [],
   "source": [
    "import json\n",
    "json_filename = '../datasets/sampled_emails_4k.json'\n",
    "with open(json_filename, 'w') as json_file:\n",
    "    json.dump(data, json_file, indent=4)"
   ]
  },
  {
   "cell_type": "code",
   "execution_count": null,
   "metadata": {},
   "outputs": [],
   "source": []
  },
  {
   "cell_type": "code",
   "execution_count": null,
   "metadata": {},
   "outputs": [],
   "source": []
  },
  {
   "cell_type": "code",
   "execution_count": null,
   "metadata": {},
   "outputs": [],
   "source": []
  },
  {
   "cell_type": "code",
   "execution_count": null,
   "metadata": {},
   "outputs": [],
   "source": []
  },
  {
   "cell_type": "code",
   "execution_count": null,
   "metadata": {},
   "outputs": [],
   "source": []
  },
  {
   "cell_type": "code",
   "execution_count": null,
   "metadata": {},
   "outputs": [],
   "source": []
  }
 ],
 "metadata": {
  "kernelspec": {
   "display_name": "lama",
   "language": "python",
   "name": "python3"
  },
  "language_info": {
   "codemirror_mode": {
    "name": "ipython",
    "version": 3
   },
   "file_extension": ".py",
   "mimetype": "text/x-python",
   "name": "python",
   "nbconvert_exporter": "python",
   "pygments_lexer": "ipython3",
   "version": "3.1.-1"
  }
 },
 "nbformat": 4,
 "nbformat_minor": 2
}
