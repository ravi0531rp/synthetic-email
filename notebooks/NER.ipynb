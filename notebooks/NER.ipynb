{
 "cells": [
  {
   "cell_type": "code",
   "execution_count": 2,
   "metadata": {},
   "outputs": [
    {
     "name": "stderr",
     "output_type": "stream",
     "text": [
      "/home/ubuntu/anaconda3/envs/pytorch-1.11.0/lib/python3.9/site-packages/tqdm/auto.py:21: TqdmWarning: IProgress not found. Please update jupyter and ipywidgets. See https://ipywidgets.readthedocs.io/en/stable/user_install.html\n",
      "  from .autonotebook import tqdm as notebook_tqdm\n"
     ]
    },
    {
     "name": "stderr",
     "output_type": "stream",
     "text": [
      "Some weights of the model checkpoint at dslim/bert-large-NER were not used when initializing BertForTokenClassification: ['bert.pooler.dense.bias', 'bert.pooler.dense.weight']\n",
      "- This IS expected if you are initializing BertForTokenClassification from the checkpoint of a model trained on another task or with another architecture (e.g. initializing a BertForSequenceClassification model from a BertForPreTraining model).\n",
      "- This IS NOT expected if you are initializing BertForTokenClassification from the checkpoint of a model that you expect to be exactly identical (initializing a BertForSequenceClassification model from a BertForSequenceClassification model).\n"
     ]
    }
   ],
   "source": [
    "from transformers import AutoTokenizer, AutoModelForTokenClassification\n",
    "from transformers import pipeline\n",
    "\n",
    "tokenizer = AutoTokenizer.from_pretrained(\"dslim/bert-large-NER\")\n",
    "model = AutoModelForTokenClassification.from_pretrained(\"dslim/bert-large-NER\")\n",
    "\n",
    "\n"
   ]
  },
  {
   "cell_type": "code",
   "execution_count": 3,
   "metadata": {},
   "outputs": [],
   "source": [
    "nlp = pipeline(\"ner\", model=model, tokenizer=tokenizer, device='cuda')\n"
   ]
  },
  {
   "cell_type": "code",
   "execution_count": 4,
   "metadata": {},
   "outputs": [],
   "source": [
    "data = [\n",
    "    {\n",
    "        \"original_email\": \"Date: Mon, 5 Feb 2001 03:26:00 -0800 (PST)\\nFrom: errol.mclaughlin@enron.com\\nTo: jeffrey.gossett@enron.com\\nSubject: Re: G-Daily-Est book deals to be flipped updated list\\nBody: \\nLuchas has been working on them and will be finished within the hour.\\nErrol\",\n",
    "        \"subject\": \"Re: G-Daily-Est book deals to be flipped updated list\",\n",
    "        \"timezone\": \"PST\",\n",
    "        \"length\": 14,\n",
    "        \"year\": 2001,\n",
    "        \"month\": \"Feb\",\n",
    "        \"recipients\": 1,\n",
    "        \"cc_participants\": 0,\n",
    "        \"is_reply\": 1,\n",
    "        \"summary\": \"Luchas has been working on them and will be finished within the hour.\",\n",
    "        \"response\": \"Date: Mon, 5 Feb 2001 03:26:00 -0800 (PST)\\nFrom: jeffrey.gossett@enron.com\\nTo: errol.mclaughlin@enron.com\\nCC: \\nSubject: Re: G-Daily-Est book deals to be flipped updated list\\nBody: \\nThanks for the update, Errol. Looking forward to seeing the finished list.\\nJeffrey\"\n",
    "    },\n",
    "    {\n",
    "        \"original_email\": \"Date: Fri, 12 Jan 2001 09:00:00 -0800 (PST)\\nFrom: errol.mclaughlin@enron.com\\nTo: gregory.carraway@enron.com\\nSubject: Re: Gas Daily deals in dispute\\nBody: \\nGreg,\\nSherry Dawson took care of these deals today.\\nThanks,\\nErrol McLaughlin, X5-8274\",\n",
    "        \"subject\": \"Re: Gas Daily deals in dispute\",\n",
    "        \"timezone\": \"PST\",\n",
    "        \"length\": 19,\n",
    "        \"year\": 2001,\n",
    "        \"month\": 1,\n",
    "        \"recipients\": 1,\n",
    "        \"cc_participants\": 0,\n",
    "        \"is_reply\": 1,\n",
    "        \"summary\": \"This email is a reply regarding the Gas Daily deals in dispute. Sherry Dawson has taken care of these deals today. Thanks.\",\n",
    "        \"response\": \"Date: Fri, 12 Jan 2001 09:00:00 -0800 (PST)\\nFrom: gregory.carraway@enron.com\\nTo: errol.mclaughlin@enron.com\\nCC:\\nSubject: Re: Gas Daily deals in dispute\\nBody:\\nErrol,\\n\\nThank you for letting me know that Sherry Dawson has taken care of the Gas Daily deals in dispute. I appreciate the update.\\n\\nBest,\\nGreg\"\n",
    "    }\n",
    "]"
   ]
  },
  {
   "cell_type": "code",
   "execution_count": 5,
   "metadata": {},
   "outputs": [
    {
     "name": "stdout",
     "output_type": "stream",
     "text": [
      "[{'entity': 'B-PER', 'score': 0.97629625, 'index': 23, 'word': 'g', 'start': 50, 'end': 51}, {'entity': 'B-PER', 'score': 0.3854005, 'index': 24, 'word': '##re', 'start': 51, 'end': 53}, {'entity': 'B-PER', 'score': 0.5042706, 'index': 26, 'word': '##y', 'start': 56, 'end': 57}, {'entity': 'B-PER', 'score': 0.8863566, 'index': 28, 'word': 'car', 'start': 58, 'end': 61}, {'entity': 'I-PER', 'score': 0.6600193, 'index': 29, 'word': '##raw', 'start': 61, 'end': 64}, {'entity': 'I-PER', 'score': 0.631353, 'index': 30, 'word': '##ay', 'start': 64, 'end': 66}, {'entity': 'B-ORG', 'score': 0.48990163, 'index': 32, 'word': 'en', 'start': 67, 'end': 69}, {'entity': 'I-ORG', 'score': 0.87843573, 'index': 33, 'word': '##ron', 'start': 69, 'end': 72}, {'entity': 'B-PER', 'score': 0.919089, 'index': 38, 'word': 'er', 'start': 81, 'end': 83}, {'entity': 'B-PER', 'score': 0.95298254, 'index': 41, 'word': 'm', 'start': 87, 'end': 88}, {'entity': 'I-PER', 'score': 0.8076757, 'index': 42, 'word': '##c', 'start': 88, 'end': 89}, {'entity': 'I-PER', 'score': 0.73415446, 'index': 43, 'word': '##lau', 'start': 89, 'end': 92}, {'entity': 'I-PER', 'score': 0.46341506, 'index': 44, 'word': '##gh', 'start': 92, 'end': 94}, {'entity': 'I-PER', 'score': 0.5780422, 'index': 45, 'word': '##lin', 'start': 94, 'end': 97}, {'entity': 'I-ORG', 'score': 0.8714214, 'index': 48, 'word': '##ron', 'start': 100, 'end': 103}, {'entity': 'B-MISC', 'score': 0.58678126, 'index': 58, 'word': 'Gas', 'start': 125, 'end': 128}, {'entity': 'I-MISC', 'score': 0.8385048, 'index': 59, 'word': 'Daily', 'start': 129, 'end': 134}, {'entity': 'B-PER', 'score': 0.9981693, 'index': 65, 'word': 'E', 'start': 158, 'end': 159}, {'entity': 'I-PER', 'score': 0.63921267, 'index': 66, 'word': '##rro', 'start': 159, 'end': 162}, {'entity': 'B-PER', 'score': 0.9975091, 'index': 67, 'word': '##l', 'start': 162, 'end': 163}, {'entity': 'B-PER', 'score': 0.9984282, 'index': 76, 'word': 'She', 'start': 201, 'end': 204}, {'entity': 'I-PER', 'score': 0.6029041, 'index': 77, 'word': '##rry', 'start': 204, 'end': 207}, {'entity': 'I-PER', 'score': 0.9989354, 'index': 78, 'word': 'Dawson', 'start': 208, 'end': 214}, {'entity': 'B-MISC', 'score': 0.5639343, 'index': 84, 'word': 'Gas', 'start': 237, 'end': 240}, {'entity': 'I-MISC', 'score': 0.8507113, 'index': 85, 'word': 'Daily', 'start': 241, 'end': 246}, {'entity': 'B-PER', 'score': 0.99112636, 'index': 95, 'word': 'Best', 'start': 291, 'end': 295}, {'entity': 'B-PER', 'score': 0.9985257, 'index': 97, 'word': 'Greg', 'start': 297, 'end': 301}]\n"
     ]
    }
   ],
   "source": [
    "example = data[1][\"response\"]\n",
    "\n",
    "ner_results = nlp(example)\n",
    "print(ner_results)"
   ]
  },
  {
   "cell_type": "code",
   "execution_count": 6,
   "metadata": {},
   "outputs": [
    {
     "name": "stdout",
     "output_type": "stream",
     "text": [
      "Date: Fri, 12 Jan 2001 09:00:00 -0800 (PST)\n",
      "From: gregory.carraway@enron.com\n",
      "To: errol.mclaughlin@enron.com\n",
      "CC:\n",
      "Subject: Re: Gas Daily deals in dispute\n",
      "Body:\n",
      "Errol,\n",
      "\n",
      "Thank you for letting me know that Sherry Dawson has taken care of the Gas Daily deals in dispute. I appreciate the update.\n",
      "\n",
      "Best,\n",
      "Greg\n"
     ]
    }
   ],
   "source": [
    "print(example)"
   ]
  },
  {
   "cell_type": "code",
   "execution_count": 13,
   "metadata": {},
   "outputs": [],
   "source": [
    "entities = ner_results.copy()"
   ]
  },
  {
   "cell_type": "code",
   "execution_count": 14,
   "metadata": {},
   "outputs": [],
   "source": [
    "reconstructed_entities = []\n",
    "current_entity = \"\"\n",
    "current_type = None\n",
    "start_index = None\n",
    "\n",
    "for e in entities:\n",
    "    if e['entity'].startswith(\"B-\"):\n",
    "        if current_entity:\n",
    "            reconstructed_entities.append({\n",
    "                \"entity\": current_type,\n",
    "                \"word\": current_entity,\n",
    "                \"start\": start_index,\n",
    "                \"end\": end_index\n",
    "            })\n",
    "        current_entity = e['word']\n",
    "        current_type = e['entity'][2:]\n",
    "        start_index = e['start']\n",
    "        end_index = e['end']\n",
    "    else:\n",
    "        current_entity += e['word'].replace(\"##\", \"\")\n",
    "        end_index = e['end']\n",
    "\n",
    "if current_entity:\n",
    "    reconstructed_entities.append({\n",
    "        \"entity\": current_type,\n",
    "        \"word\": current_entity,\n",
    "        \"start\": start_index,\n",
    "        \"end\": end_index\n",
    "    })"
   ]
  },
  {
   "cell_type": "code",
   "execution_count": 15,
   "metadata": {},
   "outputs": [
    {
     "data": {
      "text/plain": [
       "[{'entity': 'PER', 'word': 'g', 'start': 50, 'end': 51},\n",
       " {'entity': 'PER', 'word': '##re', 'start': 51, 'end': 53},\n",
       " {'entity': 'PER', 'word': '##y', 'start': 56, 'end': 57},\n",
       " {'entity': 'PER', 'word': 'carraway', 'start': 58, 'end': 66},\n",
       " {'entity': 'ORG', 'word': 'enron', 'start': 67, 'end': 72},\n",
       " {'entity': 'PER', 'word': 'er', 'start': 81, 'end': 83},\n",
       " {'entity': 'PER', 'word': 'mclaughlinron', 'start': 87, 'end': 103},\n",
       " {'entity': 'MISC', 'word': 'GasDaily', 'start': 125, 'end': 134},\n",
       " {'entity': 'PER', 'word': 'Erro', 'start': 158, 'end': 162},\n",
       " {'entity': 'PER', 'word': '##l', 'start': 162, 'end': 163},\n",
       " {'entity': 'PER', 'word': 'SherryDawson', 'start': 201, 'end': 214},\n",
       " {'entity': 'MISC', 'word': 'GasDaily', 'start': 237, 'end': 246},\n",
       " {'entity': 'PER', 'word': 'Best', 'start': 291, 'end': 295},\n",
       " {'entity': 'PER', 'word': 'Greg', 'start': 297, 'end': 301}]"
      ]
     },
     "execution_count": 15,
     "metadata": {},
     "output_type": "execute_result"
    }
   ],
   "source": [
    "reconstructed_entities"
   ]
  },
  {
   "cell_type": "code",
   "execution_count": 16,
   "metadata": {},
   "outputs": [
    {
     "data": {
      "text/plain": [
       "'Date: Fri, 12 Jan 2001 09:00:00 -0800 (PST)\\nFrom: <person><person>gor<person>.<person>@<org>.com\\nTo: <person>rol.<person>.com\\nCC:\\nSubject: Re: <org> deals in dispute\\nBody:\\n<person><person>,\\n\\nThank you for letting me know that <person> has taken care of the <org> deals in dispute. I appreciate the update.\\n\\n<person>,\\n<person>'"
      ]
     },
     "execution_count": 16,
     "metadata": {},
     "output_type": "execute_result"
    }
   ],
   "source": [
    "original_sentence = example # the original sentence should be provided here\n",
    "\n",
    "masked_sentence = original_sentence\n",
    "offset = 0\n",
    "\n",
    "for entity in reconstructed_entities:\n",
    "    replacement = \"<person>\" if entity[\"entity\"] == \"PER\" else \"<org>\"\n",
    "    start = entity[\"start\"] + offset\n",
    "    end = entity[\"end\"] + offset\n",
    "    masked_sentence = masked_sentence[:start] + replacement + masked_sentence[end:]\n",
    "    offset += len(replacement) - (end - start)\n",
    "\n",
    "masked_sentence\n"
   ]
  },
  {
   "cell_type": "code",
   "execution_count": 18,
   "metadata": {},
   "outputs": [],
   "source": [
    "import re"
   ]
  },
  {
   "cell_type": "code",
   "execution_count": 19,
   "metadata": {},
   "outputs": [
    {
     "name": "stdout",
     "output_type": "stream",
     "text": [
      "Date: Fri, 12 Jan 2001 09:00:00 -0800 (PST)\n",
      "From: <person>gor<person>.<person>@<org>.com\n",
      "To: <person>rol.<person>.com\n",
      "CC:\n",
      "Subject: Re: <org> deals in dispute\n",
      "Body:\n",
      "<person>,\n",
      "\n",
      "Thank you for letting me know that <person> has taken care of the <org> deals in dispute. I appreciate the update.\n",
      "\n",
      "<person>,\n",
      "<person>\n"
     ]
    }
   ],
   "source": [
    "masked_sentence = re.sub(r'(<person>)+', '<person>', masked_sentence)\n",
    "\n",
    "# Replace multiple adjacent <org> with a single <org>\n",
    "masked_sentence = re.sub(r'(<org>)+', '<org>', masked_sentence)\n",
    "\n",
    "print(masked_sentence)"
   ]
  },
  {
   "cell_type": "code",
   "execution_count": null,
   "metadata": {},
   "outputs": [],
   "source": []
  }
 ],
 "metadata": {
  "kernelspec": {
   "display_name": "llms",
   "language": "python",
   "name": "python3"
  },
  "language_info": {
   "codemirror_mode": {
    "name": "ipython",
    "version": 3
   },
   "file_extension": ".py",
   "mimetype": "text/x-python",
   "name": "python",
   "nbconvert_exporter": "python",
   "pygments_lexer": "ipython3",
   "version": "3.9.11"
  }
 },
 "nbformat": 4,
 "nbformat_minor": 2
}
